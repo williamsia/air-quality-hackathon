{
 "cells": [
  {
   "cell_type": "markdown",
   "id": "526c2d73-6739-4eee-a844-e749f8c5510c",
   "metadata": {},
   "source": [
    "# Mapping\n",
    "\n",
    "Try a RAG approach of mapping incoming message formats to the common data format.\n",
    "\n",
    "## Setup"
   ]
  },
  {
   "cell_type": "code",
   "execution_count": 3,
   "id": "2815e9ea",
   "metadata": {},
   "outputs": [
    {
     "name": "stdout",
     "output_type": "stream",
     "text": [
      "Requirement already satisfied: pip in /Users/deanhart/miniconda3/envs/air-quality-hackathon/lib/python3.10/site-packages (23.3.1)\n",
      "Note: you may need to restart the kernel to use updated packages.\n"
     ]
    }
   ],
   "source": [
    "%pip install --upgrade pip"
   ]
  },
  {
   "cell_type": "code",
   "execution_count": 4,
   "id": "08d4b283-e683-43cd-82a1-709b08304f59",
   "metadata": {},
   "outputs": [
    {
     "name": "stdout",
     "output_type": "stream",
     "text": [
      "Collecting boto3>=1.28.57\n",
      "  Downloading boto3-1.33.10-py3-none-any.whl.metadata (6.7 kB)\n",
      "Collecting awscli>=1.29.57\n",
      "  Downloading awscli-1.31.10-py3-none-any.whl.metadata (11 kB)\n",
      "Collecting botocore>=1.31.57\n",
      "  Downloading botocore-1.33.10-py3-none-any.whl.metadata (6.1 kB)\n",
      "Collecting jmespath<2.0.0,>=0.7.1 (from boto3>=1.28.57)\n",
      "  Using cached jmespath-1.0.1-py3-none-any.whl (20 kB)\n",
      "Collecting s3transfer<0.9.0,>=0.8.2 (from boto3>=1.28.57)\n",
      "  Using cached s3transfer-0.8.2-py3-none-any.whl.metadata (1.8 kB)\n",
      "Collecting docutils<0.17,>=0.10 (from awscli>=1.29.57)\n",
      "  Using cached docutils-0.16-py2.py3-none-any.whl (548 kB)\n",
      "Collecting PyYAML<6.1,>=3.10 (from awscli>=1.29.57)\n",
      "  Using cached PyYAML-6.0.1-cp310-cp310-macosx_11_0_arm64.whl.metadata (2.1 kB)\n",
      "Collecting colorama<0.4.5,>=0.2.5 (from awscli>=1.29.57)\n",
      "  Using cached colorama-0.4.4-py2.py3-none-any.whl (16 kB)\n",
      "Collecting rsa<4.8,>=3.1.2 (from awscli>=1.29.57)\n",
      "  Using cached rsa-4.7.2-py3-none-any.whl (34 kB)\n",
      "Collecting python-dateutil<3.0.0,>=2.1 (from botocore>=1.31.57)\n",
      "  Using cached python_dateutil-2.8.2-py2.py3-none-any.whl (247 kB)\n",
      "Collecting urllib3<2.1,>=1.25.4 (from botocore>=1.31.57)\n",
      "  Using cached urllib3-2.0.7-py3-none-any.whl.metadata (6.6 kB)\n",
      "Collecting six>=1.5 (from python-dateutil<3.0.0,>=2.1->botocore>=1.31.57)\n",
      "  Using cached six-1.16.0-py2.py3-none-any.whl (11 kB)\n",
      "Collecting pyasn1>=0.1.3 (from rsa<4.8,>=3.1.2->awscli>=1.29.57)\n",
      "  Using cached pyasn1-0.5.1-py2.py3-none-any.whl.metadata (8.6 kB)\n",
      "Downloading boto3-1.33.10-py3-none-any.whl (139 kB)\n",
      "\u001b[2K   \u001b[90m━━━━━━━━━━━━━━━━━━━━━━━━━━━━━━━━━━━━━━━━\u001b[0m \u001b[32m139.3/139.3 kB\u001b[0m \u001b[31m3.3 MB/s\u001b[0m eta \u001b[36m0:00:00\u001b[0ma \u001b[36m0:00:01\u001b[0m\n",
      "\u001b[?25hDownloading awscli-1.31.10-py3-none-any.whl (4.3 MB)\n",
      "\u001b[2K   \u001b[90m━━━━━━━━━━━━━━━━━━━━━━━━━━━━━━━━━━━━━━━━\u001b[0m \u001b[32m4.3/4.3 MB\u001b[0m \u001b[31m48.5 MB/s\u001b[0m eta \u001b[36m0:00:00\u001b[0ma \u001b[36m0:00:01\u001b[0m\n",
      "\u001b[?25hDownloading botocore-1.33.10-py3-none-any.whl (11.8 MB)\n",
      "\u001b[2K   \u001b[90m━━━━━━━━━━━━━━━━━━━━━━━━━━━━━━━━━━━━━━━━\u001b[0m \u001b[32m11.8/11.8 MB\u001b[0m \u001b[31m75.8 MB/s\u001b[0m eta \u001b[36m0:00:00\u001b[0m:00:01\u001b[0m0:01\u001b[0m\n",
      "\u001b[?25hUsing cached PyYAML-6.0.1-cp310-cp310-macosx_11_0_arm64.whl (169 kB)\n",
      "Using cached s3transfer-0.8.2-py3-none-any.whl (82 kB)\n",
      "Using cached urllib3-2.0.7-py3-none-any.whl (124 kB)\n",
      "Using cached pyasn1-0.5.1-py2.py3-none-any.whl (84 kB)\n",
      "Installing collected packages: urllib3, six, PyYAML, pyasn1, jmespath, docutils, colorama, rsa, python-dateutil, botocore, s3transfer, boto3, awscli\n",
      "  Attempting uninstall: urllib3\n",
      "    Found existing installation: urllib3 2.0.7\n",
      "    Uninstalling urllib3-2.0.7:\n",
      "      Successfully uninstalled urllib3-2.0.7\n",
      "  Attempting uninstall: six\n",
      "    Found existing installation: six 1.16.0\n",
      "    Uninstalling six-1.16.0:\n",
      "      Successfully uninstalled six-1.16.0\n",
      "  Attempting uninstall: PyYAML\n",
      "    Found existing installation: PyYAML 6.0.1\n",
      "    Uninstalling PyYAML-6.0.1:\n",
      "      Successfully uninstalled PyYAML-6.0.1\n",
      "  Attempting uninstall: pyasn1\n",
      "    Found existing installation: pyasn1 0.5.1\n",
      "    Uninstalling pyasn1-0.5.1:\n",
      "      Successfully uninstalled pyasn1-0.5.1\n",
      "  Attempting uninstall: jmespath\n",
      "    Found existing installation: jmespath 1.0.1\n",
      "    Uninstalling jmespath-1.0.1:\n",
      "      Successfully uninstalled jmespath-1.0.1\n",
      "  Attempting uninstall: docutils\n",
      "    Found existing installation: docutils 0.16\n",
      "    Uninstalling docutils-0.16:\n",
      "      Successfully uninstalled docutils-0.16\n",
      "  Attempting uninstall: colorama\n",
      "    Found existing installation: colorama 0.4.4\n",
      "    Uninstalling colorama-0.4.4:\n",
      "      Successfully uninstalled colorama-0.4.4\n",
      "  Attempting uninstall: rsa\n",
      "    Found existing installation: rsa 4.7.2\n",
      "    Uninstalling rsa-4.7.2:\n",
      "      Successfully uninstalled rsa-4.7.2\n",
      "  Attempting uninstall: python-dateutil\n",
      "    Found existing installation: python-dateutil 2.8.2\n",
      "    Uninstalling python-dateutil-2.8.2:\n",
      "      Successfully uninstalled python-dateutil-2.8.2\n",
      "  Attempting uninstall: botocore\n",
      "    Found existing installation: botocore 1.33.9\n",
      "    Uninstalling botocore-1.33.9:\n",
      "      Successfully uninstalled botocore-1.33.9\n",
      "  Attempting uninstall: s3transfer\n",
      "    Found existing installation: s3transfer 0.8.2\n",
      "    Uninstalling s3transfer-0.8.2:\n",
      "      Successfully uninstalled s3transfer-0.8.2\n",
      "  Attempting uninstall: boto3\n",
      "    Found existing installation: boto3 1.33.9\n",
      "    Uninstalling boto3-1.33.9:\n",
      "      Successfully uninstalled boto3-1.33.9\n",
      "  Attempting uninstall: awscli\n",
      "    Found existing installation: awscli 1.31.9\n",
      "    Uninstalling awscli-1.31.9:\n",
      "      Successfully uninstalled awscli-1.31.9\n",
      "Successfully installed PyYAML-6.0.1 awscli-1.31.10 boto3-1.33.10 botocore-1.33.10 colorama-0.4.4 docutils-0.16 jmespath-1.0.1 pyasn1-0.5.1 python-dateutil-2.8.2 rsa-4.7.2 s3transfer-0.8.2 six-1.16.0 urllib3-2.0.7\n",
      "Note: you may need to restart the kernel to use updated packages.\n"
     ]
    }
   ],
   "source": [
    "%pip install --no-build-isolation --force-reinstall \\\n",
    "    \"boto3>=1.28.57\" \\\n",
    "    \"awscli>=1.29.57\" \\\n",
    "    \"botocore>=1.31.57\""
   ]
  },
  {
   "cell_type": "code",
   "execution_count": 5,
   "id": "dc867fcf-0e53-4563-b6b7-5aab953576d2",
   "metadata": {},
   "outputs": [
    {
     "name": "stdout",
     "output_type": "stream",
     "text": [
      "Requirement already satisfied: langchain==0.0.309 in /Users/deanhart/miniconda3/envs/air-quality-hackathon/lib/python3.10/site-packages (0.0.309)\n",
      "Requirement already satisfied: transformers<5,>=4.24 in /Users/deanhart/miniconda3/envs/air-quality-hackathon/lib/python3.10/site-packages (4.35.2)\n",
      "Requirement already satisfied: sqlalchemy in /Users/deanhart/miniconda3/envs/air-quality-hackathon/lib/python3.10/site-packages (2.0.23)\n",
      "Requirement already satisfied: faiss-cpu<2,>=1.7 in /Users/deanhart/miniconda3/envs/air-quality-hackathon/lib/python3.10/site-packages (1.7.4)\n",
      "Requirement already satisfied: apache-beam in /Users/deanhart/miniconda3/envs/air-quality-hackathon/lib/python3.10/site-packages (2.52.0)\n",
      "Requirement already satisfied: datasets in /Users/deanhart/miniconda3/envs/air-quality-hackathon/lib/python3.10/site-packages (2.15.0)\n",
      "Requirement already satisfied: tiktoken in /Users/deanhart/miniconda3/envs/air-quality-hackathon/lib/python3.10/site-packages (0.5.2)\n",
      "Requirement already satisfied: ipywidgets<8,>=7 in /Users/deanhart/miniconda3/envs/air-quality-hackathon/lib/python3.10/site-packages (7.8.1)\n",
      "Requirement already satisfied: unstructured[md] in /Users/deanhart/miniconda3/envs/air-quality-hackathon/lib/python3.10/site-packages (0.11.2)\n",
      "Requirement already satisfied: PyYAML>=5.3 in /Users/deanhart/miniconda3/envs/air-quality-hackathon/lib/python3.10/site-packages (from langchain==0.0.309) (6.0.1)\n",
      "Requirement already satisfied: aiohttp<4.0.0,>=3.8.3 in /Users/deanhart/miniconda3/envs/air-quality-hackathon/lib/python3.10/site-packages (from langchain==0.0.309) (3.9.1)\n",
      "Requirement already satisfied: anyio<4.0 in /Users/deanhart/miniconda3/envs/air-quality-hackathon/lib/python3.10/site-packages (from langchain==0.0.309) (3.7.1)\n",
      "Requirement already satisfied: async-timeout<5.0.0,>=4.0.0 in /Users/deanhart/miniconda3/envs/air-quality-hackathon/lib/python3.10/site-packages (from langchain==0.0.309) (4.0.3)\n",
      "Requirement already satisfied: dataclasses-json<0.7,>=0.5.7 in /Users/deanhart/miniconda3/envs/air-quality-hackathon/lib/python3.10/site-packages (from langchain==0.0.309) (0.6.3)\n",
      "Requirement already satisfied: jsonpatch<2.0,>=1.33 in /Users/deanhart/miniconda3/envs/air-quality-hackathon/lib/python3.10/site-packages (from langchain==0.0.309) (1.33)\n",
      "Requirement already satisfied: langsmith<0.1.0,>=0.0.40 in /Users/deanhart/miniconda3/envs/air-quality-hackathon/lib/python3.10/site-packages (from langchain==0.0.309) (0.0.69)\n",
      "Requirement already satisfied: numpy<2,>=1 in /Users/deanhart/miniconda3/envs/air-quality-hackathon/lib/python3.10/site-packages (from langchain==0.0.309) (1.24.4)\n",
      "Requirement already satisfied: pydantic<3,>=1 in /Users/deanhart/miniconda3/envs/air-quality-hackathon/lib/python3.10/site-packages (from langchain==0.0.309) (2.5.2)\n",
      "Requirement already satisfied: requests<3,>=2 in /Users/deanhart/miniconda3/envs/air-quality-hackathon/lib/python3.10/site-packages (from langchain==0.0.309) (2.31.0)\n",
      "Requirement already satisfied: tenacity<9.0.0,>=8.1.0 in /Users/deanhart/miniconda3/envs/air-quality-hackathon/lib/python3.10/site-packages (from langchain==0.0.309) (8.2.3)\n",
      "Requirement already satisfied: filelock in /Users/deanhart/miniconda3/envs/air-quality-hackathon/lib/python3.10/site-packages (from transformers<5,>=4.24) (3.13.1)\n",
      "Requirement already satisfied: huggingface-hub<1.0,>=0.16.4 in /Users/deanhart/miniconda3/envs/air-quality-hackathon/lib/python3.10/site-packages (from transformers<5,>=4.24) (0.19.4)\n",
      "Requirement already satisfied: packaging>=20.0 in /Users/deanhart/miniconda3/envs/air-quality-hackathon/lib/python3.10/site-packages (from transformers<5,>=4.24) (23.2)\n",
      "Requirement already satisfied: regex!=2019.12.17 in /Users/deanhart/miniconda3/envs/air-quality-hackathon/lib/python3.10/site-packages (from transformers<5,>=4.24) (2023.10.3)\n",
      "Requirement already satisfied: tokenizers<0.19,>=0.14 in /Users/deanhart/miniconda3/envs/air-quality-hackathon/lib/python3.10/site-packages (from transformers<5,>=4.24) (0.15.0)\n",
      "Requirement already satisfied: safetensors>=0.3.1 in /Users/deanhart/miniconda3/envs/air-quality-hackathon/lib/python3.10/site-packages (from transformers<5,>=4.24) (0.4.1)\n",
      "Requirement already satisfied: tqdm>=4.27 in /Users/deanhart/miniconda3/envs/air-quality-hackathon/lib/python3.10/site-packages (from transformers<5,>=4.24) (4.66.1)\n",
      "Requirement already satisfied: typing-extensions>=4.2.0 in /Users/deanhart/miniconda3/envs/air-quality-hackathon/lib/python3.10/site-packages (from sqlalchemy) (4.8.0)\n",
      "Requirement already satisfied: crcmod<2.0,>=1.7 in /Users/deanhart/miniconda3/envs/air-quality-hackathon/lib/python3.10/site-packages (from apache-beam) (1.7)\n",
      "Requirement already satisfied: orjson<4,>=3.9.7 in /Users/deanhart/miniconda3/envs/air-quality-hackathon/lib/python3.10/site-packages (from apache-beam) (3.9.10)\n",
      "Requirement already satisfied: dill<0.3.2,>=0.3.1.1 in /Users/deanhart/miniconda3/envs/air-quality-hackathon/lib/python3.10/site-packages (from apache-beam) (0.3.1.1)\n",
      "Requirement already satisfied: cloudpickle~=2.2.1 in /Users/deanhart/miniconda3/envs/air-quality-hackathon/lib/python3.10/site-packages (from apache-beam) (2.2.1)\n",
      "Requirement already satisfied: fastavro<2,>=0.23.6 in /Users/deanhart/miniconda3/envs/air-quality-hackathon/lib/python3.10/site-packages (from apache-beam) (1.9.1)\n",
      "Requirement already satisfied: fasteners<1.0,>=0.3 in /Users/deanhart/miniconda3/envs/air-quality-hackathon/lib/python3.10/site-packages (from apache-beam) (0.19)\n",
      "Requirement already satisfied: grpcio!=1.48.0,<2,>=1.33.1 in /Users/deanhart/miniconda3/envs/air-quality-hackathon/lib/python3.10/site-packages (from apache-beam) (1.59.3)\n",
      "Requirement already satisfied: hdfs<3.0.0,>=2.1.0 in /Users/deanhart/miniconda3/envs/air-quality-hackathon/lib/python3.10/site-packages (from apache-beam) (2.7.3)\n",
      "Requirement already satisfied: httplib2<0.23.0,>=0.8 in /Users/deanhart/miniconda3/envs/air-quality-hackathon/lib/python3.10/site-packages (from apache-beam) (0.22.0)\n",
      "Requirement already satisfied: js2py<1,>=0.74 in /Users/deanhart/miniconda3/envs/air-quality-hackathon/lib/python3.10/site-packages (from apache-beam) (0.74)\n",
      "Requirement already satisfied: jsonschema<5.0.0,>=4.0.0 in /Users/deanhart/miniconda3/envs/air-quality-hackathon/lib/python3.10/site-packages (from apache-beam) (4.20.0)\n",
      "Requirement already satisfied: objsize<0.7.0,>=0.6.1 in /Users/deanhart/miniconda3/envs/air-quality-hackathon/lib/python3.10/site-packages (from apache-beam) (0.6.1)\n",
      "Requirement already satisfied: pymongo<5.0.0,>=3.8.0 in /Users/deanhart/miniconda3/envs/air-quality-hackathon/lib/python3.10/site-packages (from apache-beam) (4.6.1)\n",
      "Requirement already satisfied: proto-plus<2,>=1.7.1 in /Users/deanhart/miniconda3/envs/air-quality-hackathon/lib/python3.10/site-packages (from apache-beam) (1.22.3)\n",
      "Requirement already satisfied: protobuf!=4.0.*,!=4.21.*,!=4.22.0,!=4.23.*,!=4.24.*,<4.26.0,>=3.20.3 in /Users/deanhart/miniconda3/envs/air-quality-hackathon/lib/python3.10/site-packages (from apache-beam) (4.25.1)\n",
      "Requirement already satisfied: pydot<2,>=1.2.0 in /Users/deanhart/miniconda3/envs/air-quality-hackathon/lib/python3.10/site-packages (from apache-beam) (1.4.2)\n",
      "Requirement already satisfied: python-dateutil<3,>=2.8.0 in /Users/deanhart/miniconda3/envs/air-quality-hackathon/lib/python3.10/site-packages (from apache-beam) (2.8.2)\n",
      "Requirement already satisfied: pytz>=2018.3 in /Users/deanhart/miniconda3/envs/air-quality-hackathon/lib/python3.10/site-packages (from apache-beam) (2023.3.post1)\n",
      "Requirement already satisfied: zstandard<1,>=0.18.0 in /Users/deanhart/miniconda3/envs/air-quality-hackathon/lib/python3.10/site-packages (from apache-beam) (0.22.0)\n",
      "Requirement already satisfied: pyarrow<12.0.0,>=3.0.0 in /Users/deanhart/miniconda3/envs/air-quality-hackathon/lib/python3.10/site-packages (from apache-beam) (11.0.0)\n",
      "Requirement already satisfied: pyarrow-hotfix<1 in /Users/deanhart/miniconda3/envs/air-quality-hackathon/lib/python3.10/site-packages (from apache-beam) (0.6)\n",
      "Requirement already satisfied: pandas in /Users/deanhart/miniconda3/envs/air-quality-hackathon/lib/python3.10/site-packages (from datasets) (2.1.3)\n",
      "Requirement already satisfied: xxhash in /Users/deanhart/miniconda3/envs/air-quality-hackathon/lib/python3.10/site-packages (from datasets) (3.4.1)\n",
      "Requirement already satisfied: multiprocess in /Users/deanhart/miniconda3/envs/air-quality-hackathon/lib/python3.10/site-packages (from datasets) (0.70.9)\n",
      "Requirement already satisfied: fsspec<=2023.10.0,>=2023.1.0 in /Users/deanhart/miniconda3/envs/air-quality-hackathon/lib/python3.10/site-packages (from fsspec[http]<=2023.10.0,>=2023.1.0->datasets) (2023.10.0)\n",
      "Requirement already satisfied: comm>=0.1.3 in /Users/deanhart/miniconda3/envs/air-quality-hackathon/lib/python3.10/site-packages (from ipywidgets<8,>=7) (0.1.4)\n",
      "Requirement already satisfied: ipython-genutils~=0.2.0 in /Users/deanhart/miniconda3/envs/air-quality-hackathon/lib/python3.10/site-packages (from ipywidgets<8,>=7) (0.2.0)\n",
      "Requirement already satisfied: traitlets>=4.3.1 in /Users/deanhart/miniconda3/envs/air-quality-hackathon/lib/python3.10/site-packages (from ipywidgets<8,>=7) (5.14.0)\n",
      "Requirement already satisfied: widgetsnbextension~=3.6.6 in /Users/deanhart/miniconda3/envs/air-quality-hackathon/lib/python3.10/site-packages (from ipywidgets<8,>=7) (3.6.6)\n",
      "Requirement already satisfied: ipython>=4.0.0 in /Users/deanhart/miniconda3/envs/air-quality-hackathon/lib/python3.10/site-packages (from ipywidgets<8,>=7) (8.18.1)\n",
      "Requirement already satisfied: jupyterlab-widgets<3,>=1.0.0 in /Users/deanhart/miniconda3/envs/air-quality-hackathon/lib/python3.10/site-packages (from ipywidgets<8,>=7) (1.1.7)\n",
      "Requirement already satisfied: chardet in /Users/deanhart/miniconda3/envs/air-quality-hackathon/lib/python3.10/site-packages (from unstructured[md]) (5.2.0)\n",
      "Requirement already satisfied: filetype in /Users/deanhart/miniconda3/envs/air-quality-hackathon/lib/python3.10/site-packages (from unstructured[md]) (1.2.0)\n",
      "Requirement already satisfied: python-magic in /Users/deanhart/miniconda3/envs/air-quality-hackathon/lib/python3.10/site-packages (from unstructured[md]) (0.4.27)\n",
      "Requirement already satisfied: lxml in /Users/deanhart/miniconda3/envs/air-quality-hackathon/lib/python3.10/site-packages (from unstructured[md]) (4.9.3)\n",
      "Requirement already satisfied: nltk in /Users/deanhart/miniconda3/envs/air-quality-hackathon/lib/python3.10/site-packages (from unstructured[md]) (3.8.1)\n",
      "Requirement already satisfied: tabulate in /Users/deanhart/miniconda3/envs/air-quality-hackathon/lib/python3.10/site-packages (from unstructured[md]) (0.9.0)\n",
      "Requirement already satisfied: beautifulsoup4 in /Users/deanhart/miniconda3/envs/air-quality-hackathon/lib/python3.10/site-packages (from unstructured[md]) (4.12.2)\n",
      "Requirement already satisfied: emoji in /Users/deanhart/miniconda3/envs/air-quality-hackathon/lib/python3.10/site-packages (from unstructured[md]) (2.9.0)\n",
      "Requirement already satisfied: python-iso639 in /Users/deanhart/miniconda3/envs/air-quality-hackathon/lib/python3.10/site-packages (from unstructured[md]) (2023.6.15)\n",
      "Requirement already satisfied: langdetect in /Users/deanhart/miniconda3/envs/air-quality-hackathon/lib/python3.10/site-packages (from unstructured[md]) (1.0.9)\n",
      "Requirement already satisfied: rapidfuzz in /Users/deanhart/miniconda3/envs/air-quality-hackathon/lib/python3.10/site-packages (from unstructured[md]) (3.5.2)\n",
      "Requirement already satisfied: backoff in /Users/deanhart/miniconda3/envs/air-quality-hackathon/lib/python3.10/site-packages (from unstructured[md]) (2.2.1)\n",
      "Requirement already satisfied: wrapt in /Users/deanhart/miniconda3/envs/air-quality-hackathon/lib/python3.10/site-packages (from unstructured[md]) (1.16.0)\n",
      "Requirement already satisfied: markdown in /Users/deanhart/miniconda3/envs/air-quality-hackathon/lib/python3.10/site-packages (from unstructured[md]) (3.5.1)\n",
      "Requirement already satisfied: attrs>=17.3.0 in /Users/deanhart/miniconda3/envs/air-quality-hackathon/lib/python3.10/site-packages (from aiohttp<4.0.0,>=3.8.3->langchain==0.0.309) (23.1.0)\n",
      "Requirement already satisfied: multidict<7.0,>=4.5 in /Users/deanhart/miniconda3/envs/air-quality-hackathon/lib/python3.10/site-packages (from aiohttp<4.0.0,>=3.8.3->langchain==0.0.309) (6.0.4)\n",
      "Requirement already satisfied: yarl<2.0,>=1.0 in /Users/deanhart/miniconda3/envs/air-quality-hackathon/lib/python3.10/site-packages (from aiohttp<4.0.0,>=3.8.3->langchain==0.0.309) (1.9.4)\n",
      "Requirement already satisfied: frozenlist>=1.1.1 in /Users/deanhart/miniconda3/envs/air-quality-hackathon/lib/python3.10/site-packages (from aiohttp<4.0.0,>=3.8.3->langchain==0.0.309) (1.4.0)\n",
      "Requirement already satisfied: aiosignal>=1.1.2 in /Users/deanhart/miniconda3/envs/air-quality-hackathon/lib/python3.10/site-packages (from aiohttp<4.0.0,>=3.8.3->langchain==0.0.309) (1.3.1)\n",
      "Requirement already satisfied: idna>=2.8 in /Users/deanhart/miniconda3/envs/air-quality-hackathon/lib/python3.10/site-packages (from anyio<4.0->langchain==0.0.309) (3.6)\n",
      "Requirement already satisfied: sniffio>=1.1 in /Users/deanhart/miniconda3/envs/air-quality-hackathon/lib/python3.10/site-packages (from anyio<4.0->langchain==0.0.309) (1.3.0)\n",
      "Requirement already satisfied: exceptiongroup in /Users/deanhart/miniconda3/envs/air-quality-hackathon/lib/python3.10/site-packages (from anyio<4.0->langchain==0.0.309) (1.2.0)\n",
      "Requirement already satisfied: marshmallow<4.0.0,>=3.18.0 in /Users/deanhart/miniconda3/envs/air-quality-hackathon/lib/python3.10/site-packages (from dataclasses-json<0.7,>=0.5.7->langchain==0.0.309) (3.20.1)\n",
      "Requirement already satisfied: typing-inspect<1,>=0.4.0 in /Users/deanhart/miniconda3/envs/air-quality-hackathon/lib/python3.10/site-packages (from dataclasses-json<0.7,>=0.5.7->langchain==0.0.309) (0.9.0)\n",
      "Requirement already satisfied: docopt in /Users/deanhart/miniconda3/envs/air-quality-hackathon/lib/python3.10/site-packages (from hdfs<3.0.0,>=2.1.0->apache-beam) (0.6.2)\n",
      "Requirement already satisfied: six>=1.9.0 in /Users/deanhart/miniconda3/envs/air-quality-hackathon/lib/python3.10/site-packages (from hdfs<3.0.0,>=2.1.0->apache-beam) (1.16.0)\n",
      "Requirement already satisfied: pyparsing!=3.0.0,!=3.0.1,!=3.0.2,!=3.0.3,<4,>=2.4.2 in /Users/deanhart/miniconda3/envs/air-quality-hackathon/lib/python3.10/site-packages (from httplib2<0.23.0,>=0.8->apache-beam) (3.1.1)\n",
      "Requirement already satisfied: decorator in /Users/deanhart/miniconda3/envs/air-quality-hackathon/lib/python3.10/site-packages (from ipython>=4.0.0->ipywidgets<8,>=7) (5.1.1)\n",
      "Requirement already satisfied: jedi>=0.16 in /Users/deanhart/miniconda3/envs/air-quality-hackathon/lib/python3.10/site-packages (from ipython>=4.0.0->ipywidgets<8,>=7) (0.19.1)\n",
      "Requirement already satisfied: matplotlib-inline in /Users/deanhart/miniconda3/envs/air-quality-hackathon/lib/python3.10/site-packages (from ipython>=4.0.0->ipywidgets<8,>=7) (0.1.6)\n",
      "Requirement already satisfied: prompt-toolkit<3.1.0,>=3.0.41 in /Users/deanhart/miniconda3/envs/air-quality-hackathon/lib/python3.10/site-packages (from ipython>=4.0.0->ipywidgets<8,>=7) (3.0.41)\n",
      "Requirement already satisfied: pygments>=2.4.0 in /Users/deanhart/miniconda3/envs/air-quality-hackathon/lib/python3.10/site-packages (from ipython>=4.0.0->ipywidgets<8,>=7) (2.17.2)\n",
      "Requirement already satisfied: stack-data in /Users/deanhart/miniconda3/envs/air-quality-hackathon/lib/python3.10/site-packages (from ipython>=4.0.0->ipywidgets<8,>=7) (0.6.2)\n",
      "Requirement already satisfied: pexpect>4.3 in /Users/deanhart/miniconda3/envs/air-quality-hackathon/lib/python3.10/site-packages (from ipython>=4.0.0->ipywidgets<8,>=7) (4.8.0)\n",
      "Requirement already satisfied: tzlocal>=1.2 in /Users/deanhart/miniconda3/envs/air-quality-hackathon/lib/python3.10/site-packages (from js2py<1,>=0.74->apache-beam) (5.2)\n",
      "Requirement already satisfied: pyjsparser>=2.5.1 in /Users/deanhart/miniconda3/envs/air-quality-hackathon/lib/python3.10/site-packages (from js2py<1,>=0.74->apache-beam) (2.7.1)\n",
      "Requirement already satisfied: jsonpointer>=1.9 in /Users/deanhart/miniconda3/envs/air-quality-hackathon/lib/python3.10/site-packages (from jsonpatch<2.0,>=1.33->langchain==0.0.309) (2.4)\n",
      "Requirement already satisfied: jsonschema-specifications>=2023.03.6 in /Users/deanhart/miniconda3/envs/air-quality-hackathon/lib/python3.10/site-packages (from jsonschema<5.0.0,>=4.0.0->apache-beam) (2023.11.2)\n",
      "Requirement already satisfied: referencing>=0.28.4 in /Users/deanhart/miniconda3/envs/air-quality-hackathon/lib/python3.10/site-packages (from jsonschema<5.0.0,>=4.0.0->apache-beam) (0.31.1)\n",
      "Requirement already satisfied: rpds-py>=0.7.1 in /Users/deanhart/miniconda3/envs/air-quality-hackathon/lib/python3.10/site-packages (from jsonschema<5.0.0,>=4.0.0->apache-beam) (0.13.2)\n",
      "Requirement already satisfied: annotated-types>=0.4.0 in /Users/deanhart/miniconda3/envs/air-quality-hackathon/lib/python3.10/site-packages (from pydantic<3,>=1->langchain==0.0.309) (0.6.0)\n",
      "Requirement already satisfied: pydantic-core==2.14.5 in /Users/deanhart/miniconda3/envs/air-quality-hackathon/lib/python3.10/site-packages (from pydantic<3,>=1->langchain==0.0.309) (2.14.5)\n",
      "Requirement already satisfied: dnspython<3.0.0,>=1.16.0 in /Users/deanhart/miniconda3/envs/air-quality-hackathon/lib/python3.10/site-packages (from pymongo<5.0.0,>=3.8.0->apache-beam) (2.4.2)\n",
      "Requirement already satisfied: charset-normalizer<4,>=2 in /Users/deanhart/miniconda3/envs/air-quality-hackathon/lib/python3.10/site-packages (from requests<3,>=2->langchain==0.0.309) (3.3.2)\n",
      "Requirement already satisfied: urllib3<3,>=1.21.1 in /Users/deanhart/miniconda3/envs/air-quality-hackathon/lib/python3.10/site-packages (from requests<3,>=2->langchain==0.0.309) (2.0.7)\n",
      "Requirement already satisfied: certifi>=2017.4.17 in /Users/deanhart/miniconda3/envs/air-quality-hackathon/lib/python3.10/site-packages (from requests<3,>=2->langchain==0.0.309) (2023.11.17)\n",
      "Requirement already satisfied: notebook>=4.4.1 in /Users/deanhart/miniconda3/envs/air-quality-hackathon/lib/python3.10/site-packages (from widgetsnbextension~=3.6.6->ipywidgets<8,>=7) (7.0.6)\n",
      "Requirement already satisfied: soupsieve>1.2 in /Users/deanhart/miniconda3/envs/air-quality-hackathon/lib/python3.10/site-packages (from beautifulsoup4->unstructured[md]) (2.5)\n",
      "Requirement already satisfied: click in /Users/deanhart/miniconda3/envs/air-quality-hackathon/lib/python3.10/site-packages (from nltk->unstructured[md]) (8.1.7)\n",
      "Requirement already satisfied: joblib in /Users/deanhart/miniconda3/envs/air-quality-hackathon/lib/python3.10/site-packages (from nltk->unstructured[md]) (1.3.2)\n",
      "Requirement already satisfied: tzdata>=2022.1 in /Users/deanhart/miniconda3/envs/air-quality-hackathon/lib/python3.10/site-packages (from pandas->datasets) (2023.3)\n",
      "Requirement already satisfied: parso<0.9.0,>=0.8.3 in /Users/deanhart/miniconda3/envs/air-quality-hackathon/lib/python3.10/site-packages (from jedi>=0.16->ipython>=4.0.0->ipywidgets<8,>=7) (0.8.3)\n",
      "Requirement already satisfied: jupyter-server<3,>=2.4.0 in /Users/deanhart/miniconda3/envs/air-quality-hackathon/lib/python3.10/site-packages (from notebook>=4.4.1->widgetsnbextension~=3.6.6->ipywidgets<8,>=7) (2.12.1)\n",
      "Requirement already satisfied: jupyterlab-server<3,>=2.22.1 in /Users/deanhart/miniconda3/envs/air-quality-hackathon/lib/python3.10/site-packages (from notebook>=4.4.1->widgetsnbextension~=3.6.6->ipywidgets<8,>=7) (2.25.2)\n",
      "Requirement already satisfied: jupyterlab<5,>=4.0.2 in /Users/deanhart/miniconda3/envs/air-quality-hackathon/lib/python3.10/site-packages (from notebook>=4.4.1->widgetsnbextension~=3.6.6->ipywidgets<8,>=7) (4.0.9)\n",
      "Requirement already satisfied: notebook-shim<0.3,>=0.2 in /Users/deanhart/miniconda3/envs/air-quality-hackathon/lib/python3.10/site-packages (from notebook>=4.4.1->widgetsnbextension~=3.6.6->ipywidgets<8,>=7) (0.2.3)\n",
      "Requirement already satisfied: tornado>=6.2.0 in /Users/deanhart/miniconda3/envs/air-quality-hackathon/lib/python3.10/site-packages (from notebook>=4.4.1->widgetsnbextension~=3.6.6->ipywidgets<8,>=7) (6.3.3)\n",
      "Requirement already satisfied: ptyprocess>=0.5 in /Users/deanhart/miniconda3/envs/air-quality-hackathon/lib/python3.10/site-packages (from pexpect>4.3->ipython>=4.0.0->ipywidgets<8,>=7) (0.7.0)\n",
      "Requirement already satisfied: wcwidth in /Users/deanhart/miniconda3/envs/air-quality-hackathon/lib/python3.10/site-packages (from prompt-toolkit<3.1.0,>=3.0.41->ipython>=4.0.0->ipywidgets<8,>=7) (0.2.12)\n",
      "Requirement already satisfied: mypy-extensions>=0.3.0 in /Users/deanhart/miniconda3/envs/air-quality-hackathon/lib/python3.10/site-packages (from typing-inspect<1,>=0.4.0->dataclasses-json<0.7,>=0.5.7->langchain==0.0.309) (1.0.0)\n",
      "Requirement already satisfied: executing>=1.2.0 in /Users/deanhart/miniconda3/envs/air-quality-hackathon/lib/python3.10/site-packages (from stack-data->ipython>=4.0.0->ipywidgets<8,>=7) (2.0.1)\n",
      "Requirement already satisfied: asttokens>=2.1.0 in /Users/deanhart/miniconda3/envs/air-quality-hackathon/lib/python3.10/site-packages (from stack-data->ipython>=4.0.0->ipywidgets<8,>=7) (2.4.1)\n",
      "Requirement already satisfied: pure-eval in /Users/deanhart/miniconda3/envs/air-quality-hackathon/lib/python3.10/site-packages (from stack-data->ipython>=4.0.0->ipywidgets<8,>=7) (0.2.2)\n",
      "Requirement already satisfied: argon2-cffi in /Users/deanhart/miniconda3/envs/air-quality-hackathon/lib/python3.10/site-packages (from jupyter-server<3,>=2.4.0->notebook>=4.4.1->widgetsnbextension~=3.6.6->ipywidgets<8,>=7) (23.1.0)\n",
      "Requirement already satisfied: jinja2 in /Users/deanhart/miniconda3/envs/air-quality-hackathon/lib/python3.10/site-packages (from jupyter-server<3,>=2.4.0->notebook>=4.4.1->widgetsnbextension~=3.6.6->ipywidgets<8,>=7) (3.1.2)\n",
      "Requirement already satisfied: jupyter-client>=7.4.4 in /Users/deanhart/miniconda3/envs/air-quality-hackathon/lib/python3.10/site-packages (from jupyter-server<3,>=2.4.0->notebook>=4.4.1->widgetsnbextension~=3.6.6->ipywidgets<8,>=7) (8.6.0)\n",
      "Requirement already satisfied: jupyter-core!=5.0.*,>=4.12 in /Users/deanhart/miniconda3/envs/air-quality-hackathon/lib/python3.10/site-packages (from jupyter-server<3,>=2.4.0->notebook>=4.4.1->widgetsnbextension~=3.6.6->ipywidgets<8,>=7) (5.5.0)\n",
      "Requirement already satisfied: jupyter-events>=0.9.0 in /Users/deanhart/miniconda3/envs/air-quality-hackathon/lib/python3.10/site-packages (from jupyter-server<3,>=2.4.0->notebook>=4.4.1->widgetsnbextension~=3.6.6->ipywidgets<8,>=7) (0.9.0)\n",
      "Requirement already satisfied: jupyter-server-terminals in /Users/deanhart/miniconda3/envs/air-quality-hackathon/lib/python3.10/site-packages (from jupyter-server<3,>=2.4.0->notebook>=4.4.1->widgetsnbextension~=3.6.6->ipywidgets<8,>=7) (0.4.4)\n",
      "Requirement already satisfied: nbconvert>=6.4.4 in /Users/deanhart/miniconda3/envs/air-quality-hackathon/lib/python3.10/site-packages (from jupyter-server<3,>=2.4.0->notebook>=4.4.1->widgetsnbextension~=3.6.6->ipywidgets<8,>=7) (7.12.0)\n",
      "Requirement already satisfied: nbformat>=5.3.0 in /Users/deanhart/miniconda3/envs/air-quality-hackathon/lib/python3.10/site-packages (from jupyter-server<3,>=2.4.0->notebook>=4.4.1->widgetsnbextension~=3.6.6->ipywidgets<8,>=7) (5.9.2)\n",
      "Requirement already satisfied: overrides in /Users/deanhart/miniconda3/envs/air-quality-hackathon/lib/python3.10/site-packages (from jupyter-server<3,>=2.4.0->notebook>=4.4.1->widgetsnbextension~=3.6.6->ipywidgets<8,>=7) (7.4.0)\n",
      "Requirement already satisfied: prometheus-client in /Users/deanhart/miniconda3/envs/air-quality-hackathon/lib/python3.10/site-packages (from jupyter-server<3,>=2.4.0->notebook>=4.4.1->widgetsnbextension~=3.6.6->ipywidgets<8,>=7) (0.19.0)\n",
      "Requirement already satisfied: pyzmq>=24 in /Users/deanhart/miniconda3/envs/air-quality-hackathon/lib/python3.10/site-packages (from jupyter-server<3,>=2.4.0->notebook>=4.4.1->widgetsnbextension~=3.6.6->ipywidgets<8,>=7) (25.1.0)\n",
      "Requirement already satisfied: send2trash>=1.8.2 in /Users/deanhart/miniconda3/envs/air-quality-hackathon/lib/python3.10/site-packages (from jupyter-server<3,>=2.4.0->notebook>=4.4.1->widgetsnbextension~=3.6.6->ipywidgets<8,>=7) (1.8.2)\n",
      "Requirement already satisfied: terminado>=0.8.3 in /Users/deanhart/miniconda3/envs/air-quality-hackathon/lib/python3.10/site-packages (from jupyter-server<3,>=2.4.0->notebook>=4.4.1->widgetsnbextension~=3.6.6->ipywidgets<8,>=7) (0.18.0)\n",
      "Requirement already satisfied: websocket-client in /Users/deanhart/miniconda3/envs/air-quality-hackathon/lib/python3.10/site-packages (from jupyter-server<3,>=2.4.0->notebook>=4.4.1->widgetsnbextension~=3.6.6->ipywidgets<8,>=7) (1.7.0)\n",
      "Requirement already satisfied: async-lru>=1.0.0 in /Users/deanhart/miniconda3/envs/air-quality-hackathon/lib/python3.10/site-packages (from jupyterlab<5,>=4.0.2->notebook>=4.4.1->widgetsnbextension~=3.6.6->ipywidgets<8,>=7) (2.0.4)\n",
      "Requirement already satisfied: ipykernel in /Users/deanhart/miniconda3/envs/air-quality-hackathon/lib/python3.10/site-packages (from jupyterlab<5,>=4.0.2->notebook>=4.4.1->widgetsnbextension~=3.6.6->ipywidgets<8,>=7) (6.26.0)\n",
      "Requirement already satisfied: jupyter-lsp>=2.0.0 in /Users/deanhart/miniconda3/envs/air-quality-hackathon/lib/python3.10/site-packages (from jupyterlab<5,>=4.0.2->notebook>=4.4.1->widgetsnbextension~=3.6.6->ipywidgets<8,>=7) (2.2.1)\n",
      "Requirement already satisfied: tomli in /Users/deanhart/miniconda3/envs/air-quality-hackathon/lib/python3.10/site-packages (from jupyterlab<5,>=4.0.2->notebook>=4.4.1->widgetsnbextension~=3.6.6->ipywidgets<8,>=7) (2.0.1)\n",
      "Requirement already satisfied: babel>=2.10 in /Users/deanhart/miniconda3/envs/air-quality-hackathon/lib/python3.10/site-packages (from jupyterlab-server<3,>=2.22.1->notebook>=4.4.1->widgetsnbextension~=3.6.6->ipywidgets<8,>=7) (2.13.1)\n",
      "Requirement already satisfied: json5>=0.9.0 in /Users/deanhart/miniconda3/envs/air-quality-hackathon/lib/python3.10/site-packages (from jupyterlab-server<3,>=2.22.1->notebook>=4.4.1->widgetsnbextension~=3.6.6->ipywidgets<8,>=7) (0.9.14)\n",
      "Requirement already satisfied: MarkupSafe>=2.0 in /Users/deanhart/miniconda3/envs/air-quality-hackathon/lib/python3.10/site-packages (from jinja2->jupyter-server<3,>=2.4.0->notebook>=4.4.1->widgetsnbextension~=3.6.6->ipywidgets<8,>=7) (2.1.3)\n",
      "Requirement already satisfied: platformdirs>=2.5 in /Users/deanhart/miniconda3/envs/air-quality-hackathon/lib/python3.10/site-packages (from jupyter-core!=5.0.*,>=4.12->jupyter-server<3,>=2.4.0->notebook>=4.4.1->widgetsnbextension~=3.6.6->ipywidgets<8,>=7) (4.1.0)\n",
      "Requirement already satisfied: python-json-logger>=2.0.4 in /Users/deanhart/miniconda3/envs/air-quality-hackathon/lib/python3.10/site-packages (from jupyter-events>=0.9.0->jupyter-server<3,>=2.4.0->notebook>=4.4.1->widgetsnbextension~=3.6.6->ipywidgets<8,>=7) (2.0.7)\n",
      "Requirement already satisfied: rfc3339-validator in /Users/deanhart/miniconda3/envs/air-quality-hackathon/lib/python3.10/site-packages (from jupyter-events>=0.9.0->jupyter-server<3,>=2.4.0->notebook>=4.4.1->widgetsnbextension~=3.6.6->ipywidgets<8,>=7) (0.1.4)\n",
      "Requirement already satisfied: rfc3986-validator>=0.1.1 in /Users/deanhart/miniconda3/envs/air-quality-hackathon/lib/python3.10/site-packages (from jupyter-events>=0.9.0->jupyter-server<3,>=2.4.0->notebook>=4.4.1->widgetsnbextension~=3.6.6->ipywidgets<8,>=7) (0.1.1)\n",
      "Requirement already satisfied: bleach!=5.0.0 in /Users/deanhart/miniconda3/envs/air-quality-hackathon/lib/python3.10/site-packages (from nbconvert>=6.4.4->jupyter-server<3,>=2.4.0->notebook>=4.4.1->widgetsnbextension~=3.6.6->ipywidgets<8,>=7) (6.1.0)\n",
      "Requirement already satisfied: defusedxml in /Users/deanhart/miniconda3/envs/air-quality-hackathon/lib/python3.10/site-packages (from nbconvert>=6.4.4->jupyter-server<3,>=2.4.0->notebook>=4.4.1->widgetsnbextension~=3.6.6->ipywidgets<8,>=7) (0.7.1)\n",
      "Requirement already satisfied: jupyterlab-pygments in /Users/deanhart/miniconda3/envs/air-quality-hackathon/lib/python3.10/site-packages (from nbconvert>=6.4.4->jupyter-server<3,>=2.4.0->notebook>=4.4.1->widgetsnbextension~=3.6.6->ipywidgets<8,>=7) (0.3.0)\n",
      "Requirement already satisfied: mistune<4,>=2.0.3 in /Users/deanhart/miniconda3/envs/air-quality-hackathon/lib/python3.10/site-packages (from nbconvert>=6.4.4->jupyter-server<3,>=2.4.0->notebook>=4.4.1->widgetsnbextension~=3.6.6->ipywidgets<8,>=7) (3.0.2)\n",
      "Requirement already satisfied: nbclient>=0.5.0 in /Users/deanhart/miniconda3/envs/air-quality-hackathon/lib/python3.10/site-packages (from nbconvert>=6.4.4->jupyter-server<3,>=2.4.0->notebook>=4.4.1->widgetsnbextension~=3.6.6->ipywidgets<8,>=7) (0.9.0)\n",
      "Requirement already satisfied: pandocfilters>=1.4.1 in /Users/deanhart/miniconda3/envs/air-quality-hackathon/lib/python3.10/site-packages (from nbconvert>=6.4.4->jupyter-server<3,>=2.4.0->notebook>=4.4.1->widgetsnbextension~=3.6.6->ipywidgets<8,>=7) (1.5.0)\n",
      "Requirement already satisfied: tinycss2 in /Users/deanhart/miniconda3/envs/air-quality-hackathon/lib/python3.10/site-packages (from nbconvert>=6.4.4->jupyter-server<3,>=2.4.0->notebook>=4.4.1->widgetsnbextension~=3.6.6->ipywidgets<8,>=7) (1.2.1)\n",
      "Requirement already satisfied: fastjsonschema in /Users/deanhart/miniconda3/envs/air-quality-hackathon/lib/python3.10/site-packages (from nbformat>=5.3.0->jupyter-server<3,>=2.4.0->notebook>=4.4.1->widgetsnbextension~=3.6.6->ipywidgets<8,>=7) (2.19.0)\n",
      "Requirement already satisfied: argon2-cffi-bindings in /Users/deanhart/miniconda3/envs/air-quality-hackathon/lib/python3.10/site-packages (from argon2-cffi->jupyter-server<3,>=2.4.0->notebook>=4.4.1->widgetsnbextension~=3.6.6->ipywidgets<8,>=7) (21.2.0)\n",
      "Requirement already satisfied: appnope in /Users/deanhart/miniconda3/envs/air-quality-hackathon/lib/python3.10/site-packages (from ipykernel->jupyterlab<5,>=4.0.2->notebook>=4.4.1->widgetsnbextension~=3.6.6->ipywidgets<8,>=7) (0.1.3)\n",
      "Requirement already satisfied: debugpy>=1.6.5 in /Users/deanhart/miniconda3/envs/air-quality-hackathon/lib/python3.10/site-packages (from ipykernel->jupyterlab<5,>=4.0.2->notebook>=4.4.1->widgetsnbextension~=3.6.6->ipywidgets<8,>=7) (1.6.7)\n",
      "Requirement already satisfied: nest-asyncio in /Users/deanhart/miniconda3/envs/air-quality-hackathon/lib/python3.10/site-packages (from ipykernel->jupyterlab<5,>=4.0.2->notebook>=4.4.1->widgetsnbextension~=3.6.6->ipywidgets<8,>=7) (1.5.8)\n",
      "Requirement already satisfied: psutil in /Users/deanhart/miniconda3/envs/air-quality-hackathon/lib/python3.10/site-packages (from ipykernel->jupyterlab<5,>=4.0.2->notebook>=4.4.1->widgetsnbextension~=3.6.6->ipywidgets<8,>=7) (5.9.0)\n",
      "Requirement already satisfied: webencodings in /Users/deanhart/miniconda3/envs/air-quality-hackathon/lib/python3.10/site-packages (from bleach!=5.0.0->nbconvert>=6.4.4->jupyter-server<3,>=2.4.0->notebook>=4.4.1->widgetsnbextension~=3.6.6->ipywidgets<8,>=7) (0.5.1)\n",
      "Requirement already satisfied: fqdn in /Users/deanhart/miniconda3/envs/air-quality-hackathon/lib/python3.10/site-packages (from jsonschema[format-nongpl]>=4.18.0->jupyter-events>=0.9.0->jupyter-server<3,>=2.4.0->notebook>=4.4.1->widgetsnbextension~=3.6.6->ipywidgets<8,>=7) (1.5.1)\n",
      "Requirement already satisfied: isoduration in /Users/deanhart/miniconda3/envs/air-quality-hackathon/lib/python3.10/site-packages (from jsonschema[format-nongpl]>=4.18.0->jupyter-events>=0.9.0->jupyter-server<3,>=2.4.0->notebook>=4.4.1->widgetsnbextension~=3.6.6->ipywidgets<8,>=7) (20.11.0)\n",
      "Requirement already satisfied: uri-template in /Users/deanhart/miniconda3/envs/air-quality-hackathon/lib/python3.10/site-packages (from jsonschema[format-nongpl]>=4.18.0->jupyter-events>=0.9.0->jupyter-server<3,>=2.4.0->notebook>=4.4.1->widgetsnbextension~=3.6.6->ipywidgets<8,>=7) (1.3.0)\n",
      "Requirement already satisfied: webcolors>=1.11 in /Users/deanhart/miniconda3/envs/air-quality-hackathon/lib/python3.10/site-packages (from jsonschema[format-nongpl]>=4.18.0->jupyter-events>=0.9.0->jupyter-server<3,>=2.4.0->notebook>=4.4.1->widgetsnbextension~=3.6.6->ipywidgets<8,>=7) (1.13)\n",
      "Requirement already satisfied: cffi>=1.0.1 in /Users/deanhart/miniconda3/envs/air-quality-hackathon/lib/python3.10/site-packages (from argon2-cffi-bindings->argon2-cffi->jupyter-server<3,>=2.4.0->notebook>=4.4.1->widgetsnbextension~=3.6.6->ipywidgets<8,>=7) (1.16.0)\n",
      "Requirement already satisfied: pycparser in /Users/deanhart/miniconda3/envs/air-quality-hackathon/lib/python3.10/site-packages (from cffi>=1.0.1->argon2-cffi-bindings->argon2-cffi->jupyter-server<3,>=2.4.0->notebook>=4.4.1->widgetsnbextension~=3.6.6->ipywidgets<8,>=7) (2.21)\n",
      "Requirement already satisfied: arrow>=0.15.0 in /Users/deanhart/miniconda3/envs/air-quality-hackathon/lib/python3.10/site-packages (from isoduration->jsonschema[format-nongpl]>=4.18.0->jupyter-events>=0.9.0->jupyter-server<3,>=2.4.0->notebook>=4.4.1->widgetsnbextension~=3.6.6->ipywidgets<8,>=7) (1.3.0)\n",
      "Requirement already satisfied: types-python-dateutil>=2.8.10 in /Users/deanhart/miniconda3/envs/air-quality-hackathon/lib/python3.10/site-packages (from arrow>=0.15.0->isoduration->jsonschema[format-nongpl]>=4.18.0->jupyter-events>=0.9.0->jupyter-server<3,>=2.4.0->notebook>=4.4.1->widgetsnbextension~=3.6.6->ipywidgets<8,>=7) (2.8.19.14)\n",
      "Note: you may need to restart the kernel to use updated packages.\n"
     ]
    }
   ],
   "source": [
    "%pip install  \\\n",
    "    langchain==0.0.309 \\\n",
    "    \"transformers>=4.24,<5\" \\\n",
    "    sqlalchemy -U \\\n",
    "    \"faiss-cpu>=1.7,<2\" \\\n",
    "    apache-beam \\\n",
    "    datasets \\\n",
    "    tiktoken \\\n",
    "    \"ipywidgets>=7,<8\" \\\n",
    "\t\"unstructured[md]\" \n"
   ]
  },
  {
   "cell_type": "code",
   "execution_count": 6,
   "id": "eb2ac56c-5097-4c04-994a-b5c57d74d596",
   "metadata": {},
   "outputs": [],
   "source": [
    "import warnings\n",
    "warnings.filterwarnings('ignore')"
   ]
  },
  {
   "cell_type": "code",
   "execution_count": 7,
   "id": "f3b487cd-a047-446b-ab2d-02a2ac137a8a",
   "metadata": {},
   "outputs": [
    {
     "name": "stdout",
     "output_type": "stream",
     "text": [
      "Create new client\n",
      "  Using region: None\n"
     ]
    },
    {
     "ename": "JSONDecodeError",
     "evalue": "Expecting value: line 1 column 1 (char 0)",
     "output_type": "error",
     "traceback": [
      "\u001b[0;31m---------------------------------------------------------------------------\u001b[0m",
      "\u001b[0;31mJSONDecodeError\u001b[0m                           Traceback (most recent call last)",
      "\u001b[1;32m/Users/deanhart/Documents/hack to the rescue/hackathon/jupyter/POC/poc.ipynb Cell 6\u001b[0m line \u001b[0;36m1\n\u001b[1;32m      <a href='vscode-notebook-cell:/Users/deanhart/Documents/hack%20to%20the%20rescue/hackathon/jupyter/POC/poc.ipynb#W5sZmlsZQ%3D%3D?line=8'>9</a>\u001b[0m \u001b[39mfrom\u001b[39;00m \u001b[39mutils\u001b[39;00m \u001b[39mimport\u001b[39;00m bedrock, print_ww\n\u001b[1;32m     <a href='vscode-notebook-cell:/Users/deanhart/Documents/hack%20to%20the%20rescue/hackathon/jupyter/POC/poc.ipynb#W5sZmlsZQ%3D%3D?line=11'>12</a>\u001b[0m \u001b[39m# ---- ⚠️ Un-comment and edit the below lines as needed for your AWS setup ⚠️ ----\u001b[39;00m\n\u001b[1;32m     <a href='vscode-notebook-cell:/Users/deanhart/Documents/hack%20to%20the%20rescue/hackathon/jupyter/POC/poc.ipynb#W5sZmlsZQ%3D%3D?line=12'>13</a>\u001b[0m \n\u001b[1;32m     <a href='vscode-notebook-cell:/Users/deanhart/Documents/hack%20to%20the%20rescue/hackathon/jupyter/POC/poc.ipynb#W5sZmlsZQ%3D%3D?line=13'>14</a>\u001b[0m \u001b[39m# os.environ[\"AWS_DEFAULT_REGION\"] = \"<REGION_NAME>\"  # E.g. \"us-east-1\"\u001b[39;00m\n\u001b[1;32m     <a href='vscode-notebook-cell:/Users/deanhart/Documents/hack%20to%20the%20rescue/hackathon/jupyter/POC/poc.ipynb#W5sZmlsZQ%3D%3D?line=14'>15</a>\u001b[0m \u001b[39m# os.environ[\"AWS_PROFILE\"] = \"<YOUR_PROFILE>\"\u001b[39;00m\n\u001b[1;32m     <a href='vscode-notebook-cell:/Users/deanhart/Documents/hack%20to%20the%20rescue/hackathon/jupyter/POC/poc.ipynb#W5sZmlsZQ%3D%3D?line=15'>16</a>\u001b[0m \u001b[39m# os.environ[\"BEDROCK_ASSUME_ROLE\"] = \"<YOUR_ROLE_ARN>\"  # E.g. \"arn:aws:...\"\u001b[39;00m\n\u001b[0;32m---> <a href='vscode-notebook-cell:/Users/deanhart/Documents/hack%20to%20the%20rescue/hackathon/jupyter/POC/poc.ipynb#W5sZmlsZQ%3D%3D?line=17'>18</a>\u001b[0m boto3_bedrock \u001b[39m=\u001b[39m bedrock\u001b[39m.\u001b[39;49mget_bedrock_client(\n\u001b[1;32m     <a href='vscode-notebook-cell:/Users/deanhart/Documents/hack%20to%20the%20rescue/hackathon/jupyter/POC/poc.ipynb#W5sZmlsZQ%3D%3D?line=18'>19</a>\u001b[0m     \u001b[39m#assumed_role=os.environ.get(\"BEDROCK_ASSUME_ROLE\", None),\u001b[39;49;00m\n\u001b[1;32m     <a href='vscode-notebook-cell:/Users/deanhart/Documents/hack%20to%20the%20rescue/hackathon/jupyter/POC/poc.ipynb#W5sZmlsZQ%3D%3D?line=19'>20</a>\u001b[0m     region\u001b[39m=\u001b[39;49mos\u001b[39m.\u001b[39;49menviron\u001b[39m.\u001b[39;49mget(\u001b[39m\"\u001b[39;49m\u001b[39mAWS_DEFAULT_REGION\u001b[39;49m\u001b[39m\"\u001b[39;49m, \u001b[39mNone\u001b[39;49;00m)\n\u001b[1;32m     <a href='vscode-notebook-cell:/Users/deanhart/Documents/hack%20to%20the%20rescue/hackathon/jupyter/POC/poc.ipynb#W5sZmlsZQ%3D%3D?line=20'>21</a>\u001b[0m )\n",
      "File \u001b[0;32m~/Documents/hack to the rescue/hackathon/jupyter/POC/utils/bedrock.py:71\u001b[0m, in \u001b[0;36mget_bedrock_client\u001b[0;34m(assumed_role, region, runtime)\u001b[0m\n\u001b[1;32m     68\u001b[0m \u001b[39melse\u001b[39;00m:\n\u001b[1;32m     69\u001b[0m     service_name\u001b[39m=\u001b[39m\u001b[39m'\u001b[39m\u001b[39mbedrock\u001b[39m\u001b[39m'\u001b[39m\n\u001b[0;32m---> 71\u001b[0m bedrock_client \u001b[39m=\u001b[39m session\u001b[39m.\u001b[39;49mclient(\n\u001b[1;32m     72\u001b[0m     service_name\u001b[39m=\u001b[39;49mservice_name,\n\u001b[1;32m     73\u001b[0m     config\u001b[39m=\u001b[39;49mretry_config,\n\u001b[1;32m     74\u001b[0m     \u001b[39m*\u001b[39;49m\u001b[39m*\u001b[39;49mclient_kwargs\n\u001b[1;32m     75\u001b[0m )\n\u001b[1;32m     77\u001b[0m \u001b[39mprint\u001b[39m(\u001b[39m\"\u001b[39m\u001b[39mboto3 Bedrock client successfully created!\u001b[39m\u001b[39m\"\u001b[39m)\n\u001b[1;32m     78\u001b[0m \u001b[39mprint\u001b[39m(bedrock_client\u001b[39m.\u001b[39m_endpoint)\n",
      "File \u001b[0;32m~/miniconda3/envs/air-quality-hackathon/lib/python3.10/site-packages/boto3/session.py:299\u001b[0m, in \u001b[0;36mSession.client\u001b[0;34m(self, service_name, region_name, api_version, use_ssl, verify, endpoint_url, aws_access_key_id, aws_secret_access_key, aws_session_token, config)\u001b[0m\n\u001b[1;32m    217\u001b[0m \u001b[39mdef\u001b[39;00m \u001b[39mclient\u001b[39m(\n\u001b[1;32m    218\u001b[0m     \u001b[39mself\u001b[39m,\n\u001b[1;32m    219\u001b[0m     service_name,\n\u001b[0;32m   (...)\u001b[0m\n\u001b[1;32m    228\u001b[0m     config\u001b[39m=\u001b[39m\u001b[39mNone\u001b[39;00m,\n\u001b[1;32m    229\u001b[0m ):\n\u001b[1;32m    230\u001b[0m \u001b[39m    \u001b[39m\u001b[39m\"\"\"\u001b[39;00m\n\u001b[1;32m    231\u001b[0m \u001b[39m    Create a low-level service client by name.\u001b[39;00m\n\u001b[1;32m    232\u001b[0m \n\u001b[0;32m   (...)\u001b[0m\n\u001b[1;32m    297\u001b[0m \n\u001b[1;32m    298\u001b[0m \u001b[39m    \"\"\"\u001b[39;00m\n\u001b[0;32m--> 299\u001b[0m     \u001b[39mreturn\u001b[39;00m \u001b[39mself\u001b[39;49m\u001b[39m.\u001b[39;49m_session\u001b[39m.\u001b[39;49mcreate_client(\n\u001b[1;32m    300\u001b[0m         service_name,\n\u001b[1;32m    301\u001b[0m         region_name\u001b[39m=\u001b[39;49mregion_name,\n\u001b[1;32m    302\u001b[0m         api_version\u001b[39m=\u001b[39;49mapi_version,\n\u001b[1;32m    303\u001b[0m         use_ssl\u001b[39m=\u001b[39;49muse_ssl,\n\u001b[1;32m    304\u001b[0m         verify\u001b[39m=\u001b[39;49mverify,\n\u001b[1;32m    305\u001b[0m         endpoint_url\u001b[39m=\u001b[39;49mendpoint_url,\n\u001b[1;32m    306\u001b[0m         aws_access_key_id\u001b[39m=\u001b[39;49maws_access_key_id,\n\u001b[1;32m    307\u001b[0m         aws_secret_access_key\u001b[39m=\u001b[39;49maws_secret_access_key,\n\u001b[1;32m    308\u001b[0m         aws_session_token\u001b[39m=\u001b[39;49maws_session_token,\n\u001b[1;32m    309\u001b[0m         config\u001b[39m=\u001b[39;49mconfig,\n\u001b[1;32m    310\u001b[0m     )\n",
      "File \u001b[0;32m~/miniconda3/envs/air-quality-hackathon/lib/python3.10/site-packages/botocore/session.py:957\u001b[0m, in \u001b[0;36mSession.create_client\u001b[0;34m(self, service_name, region_name, api_version, use_ssl, verify, endpoint_url, aws_access_key_id, aws_secret_access_key, aws_session_token, config)\u001b[0m\n\u001b[1;32m    950\u001b[0m     \u001b[39mraise\u001b[39;00m PartialCredentialsError(\n\u001b[1;32m    951\u001b[0m         provider\u001b[39m=\u001b[39m\u001b[39m'\u001b[39m\u001b[39mexplicit\u001b[39m\u001b[39m'\u001b[39m,\n\u001b[1;32m    952\u001b[0m         cred_var\u001b[39m=\u001b[39m\u001b[39mself\u001b[39m\u001b[39m.\u001b[39m_missing_cred_vars(\n\u001b[1;32m    953\u001b[0m             aws_access_key_id, aws_secret_access_key\n\u001b[1;32m    954\u001b[0m         ),\n\u001b[1;32m    955\u001b[0m     )\n\u001b[1;32m    956\u001b[0m \u001b[39melse\u001b[39;00m:\n\u001b[0;32m--> 957\u001b[0m     credentials \u001b[39m=\u001b[39m \u001b[39mself\u001b[39;49m\u001b[39m.\u001b[39;49mget_credentials()\n\u001b[1;32m    958\u001b[0m auth_token \u001b[39m=\u001b[39m \u001b[39mself\u001b[39m\u001b[39m.\u001b[39mget_auth_token()\n\u001b[1;32m    959\u001b[0m endpoint_resolver \u001b[39m=\u001b[39m \u001b[39mself\u001b[39m\u001b[39m.\u001b[39m_get_internal_component(\u001b[39m'\u001b[39m\u001b[39mendpoint_resolver\u001b[39m\u001b[39m'\u001b[39m)\n",
      "File \u001b[0;32m~/miniconda3/envs/air-quality-hackathon/lib/python3.10/site-packages/botocore/session.py:515\u001b[0m, in \u001b[0;36mSession.get_credentials\u001b[0;34m(self)\u001b[0m\n\u001b[1;32m    504\u001b[0m \u001b[39m\u001b[39m\u001b[39m\"\"\"\u001b[39;00m\n\u001b[1;32m    505\u001b[0m \u001b[39mReturn the :class:`botocore.credential.Credential` object\u001b[39;00m\n\u001b[1;32m    506\u001b[0m \u001b[39massociated with this session.  If the credentials have not\u001b[39;00m\n\u001b[0;32m   (...)\u001b[0m\n\u001b[1;32m    510\u001b[0m \n\u001b[1;32m    511\u001b[0m \u001b[39m\"\"\"\u001b[39;00m\n\u001b[1;32m    512\u001b[0m \u001b[39mif\u001b[39;00m \u001b[39mself\u001b[39m\u001b[39m.\u001b[39m_credentials \u001b[39mis\u001b[39;00m \u001b[39mNone\u001b[39;00m:\n\u001b[1;32m    513\u001b[0m     \u001b[39mself\u001b[39m\u001b[39m.\u001b[39m_credentials \u001b[39m=\u001b[39m \u001b[39mself\u001b[39;49m\u001b[39m.\u001b[39;49m_components\u001b[39m.\u001b[39;49mget_component(\n\u001b[1;32m    514\u001b[0m         \u001b[39m'\u001b[39;49m\u001b[39mcredential_provider\u001b[39;49m\u001b[39m'\u001b[39;49m\n\u001b[0;32m--> 515\u001b[0m     )\u001b[39m.\u001b[39;49mload_credentials()\n\u001b[1;32m    516\u001b[0m \u001b[39mreturn\u001b[39;00m \u001b[39mself\u001b[39m\u001b[39m.\u001b[39m_credentials\n",
      "File \u001b[0;32m~/miniconda3/envs/air-quality-hackathon/lib/python3.10/site-packages/botocore/credentials.py:2074\u001b[0m, in \u001b[0;36mCredentialResolver.load_credentials\u001b[0;34m(self)\u001b[0m\n\u001b[1;32m   2072\u001b[0m \u001b[39mfor\u001b[39;00m provider \u001b[39min\u001b[39;00m \u001b[39mself\u001b[39m\u001b[39m.\u001b[39mproviders:\n\u001b[1;32m   2073\u001b[0m     logger\u001b[39m.\u001b[39mdebug(\u001b[39m\"\u001b[39m\u001b[39mLooking for credentials via: \u001b[39m\u001b[39m%s\u001b[39;00m\u001b[39m\"\u001b[39m, provider\u001b[39m.\u001b[39mMETHOD)\n\u001b[0;32m-> 2074\u001b[0m     creds \u001b[39m=\u001b[39m provider\u001b[39m.\u001b[39;49mload()\n\u001b[1;32m   2075\u001b[0m     \u001b[39mif\u001b[39;00m creds \u001b[39mis\u001b[39;00m \u001b[39mnot\u001b[39;00m \u001b[39mNone\u001b[39;00m:\n\u001b[1;32m   2076\u001b[0m         \u001b[39mreturn\u001b[39;00m creds\n",
      "File \u001b[0;32m~/miniconda3/envs/air-quality-hackathon/lib/python3.10/site-packages/botocore/credentials.py:1000\u001b[0m, in \u001b[0;36mProcessProvider.load\u001b[0;34m(self)\u001b[0m\n\u001b[1;32m    997\u001b[0m \u001b[39mif\u001b[39;00m credential_process \u001b[39mis\u001b[39;00m \u001b[39mNone\u001b[39;00m:\n\u001b[1;32m    998\u001b[0m     \u001b[39mreturn\u001b[39;00m\n\u001b[0;32m-> 1000\u001b[0m creds_dict \u001b[39m=\u001b[39m \u001b[39mself\u001b[39;49m\u001b[39m.\u001b[39;49m_retrieve_credentials_using(credential_process)\n\u001b[1;32m   1001\u001b[0m \u001b[39mif\u001b[39;00m creds_dict\u001b[39m.\u001b[39mget(\u001b[39m'\u001b[39m\u001b[39mexpiry_time\u001b[39m\u001b[39m'\u001b[39m) \u001b[39mis\u001b[39;00m \u001b[39mnot\u001b[39;00m \u001b[39mNone\u001b[39;00m:\n\u001b[1;32m   1002\u001b[0m     \u001b[39mreturn\u001b[39;00m RefreshableCredentials\u001b[39m.\u001b[39mcreate_from_metadata(\n\u001b[1;32m   1003\u001b[0m         creds_dict,\n\u001b[1;32m   1004\u001b[0m         \u001b[39mlambda\u001b[39;00m: \u001b[39mself\u001b[39m\u001b[39m.\u001b[39m_retrieve_credentials_using(credential_process),\n\u001b[1;32m   1005\u001b[0m         \u001b[39mself\u001b[39m\u001b[39m.\u001b[39mMETHOD,\n\u001b[1;32m   1006\u001b[0m     )\n",
      "File \u001b[0;32m~/miniconda3/envs/air-quality-hackathon/lib/python3.10/site-packages/botocore/credentials.py:1027\u001b[0m, in \u001b[0;36mProcessProvider._retrieve_credentials_using\u001b[0;34m(self, credential_process)\u001b[0m\n\u001b[1;32m   1023\u001b[0m \u001b[39mif\u001b[39;00m p\u001b[39m.\u001b[39mreturncode \u001b[39m!=\u001b[39m \u001b[39m0\u001b[39m:\n\u001b[1;32m   1024\u001b[0m     \u001b[39mraise\u001b[39;00m CredentialRetrievalError(\n\u001b[1;32m   1025\u001b[0m         provider\u001b[39m=\u001b[39m\u001b[39mself\u001b[39m\u001b[39m.\u001b[39mMETHOD, error_msg\u001b[39m=\u001b[39mstderr\u001b[39m.\u001b[39mdecode(\u001b[39m'\u001b[39m\u001b[39mutf-8\u001b[39m\u001b[39m'\u001b[39m)\n\u001b[1;32m   1026\u001b[0m     )\n\u001b[0;32m-> 1027\u001b[0m parsed \u001b[39m=\u001b[39m botocore\u001b[39m.\u001b[39;49mcompat\u001b[39m.\u001b[39;49mjson\u001b[39m.\u001b[39;49mloads(stdout\u001b[39m.\u001b[39;49mdecode(\u001b[39m'\u001b[39;49m\u001b[39mutf-8\u001b[39;49m\u001b[39m'\u001b[39;49m))\n\u001b[1;32m   1028\u001b[0m version \u001b[39m=\u001b[39m parsed\u001b[39m.\u001b[39mget(\u001b[39m'\u001b[39m\u001b[39mVersion\u001b[39m\u001b[39m'\u001b[39m, \u001b[39m'\u001b[39m\u001b[39m<Version key not provided>\u001b[39m\u001b[39m'\u001b[39m)\n\u001b[1;32m   1029\u001b[0m \u001b[39mif\u001b[39;00m version \u001b[39m!=\u001b[39m \u001b[39m1\u001b[39m:\n",
      "File \u001b[0;32m~/miniconda3/envs/air-quality-hackathon/lib/python3.10/json/__init__.py:346\u001b[0m, in \u001b[0;36mloads\u001b[0;34m(s, cls, object_hook, parse_float, parse_int, parse_constant, object_pairs_hook, **kw)\u001b[0m\n\u001b[1;32m    341\u001b[0m     s \u001b[39m=\u001b[39m s\u001b[39m.\u001b[39mdecode(detect_encoding(s), \u001b[39m'\u001b[39m\u001b[39msurrogatepass\u001b[39m\u001b[39m'\u001b[39m)\n\u001b[1;32m    343\u001b[0m \u001b[39mif\u001b[39;00m (\u001b[39mcls\u001b[39m \u001b[39mis\u001b[39;00m \u001b[39mNone\u001b[39;00m \u001b[39mand\u001b[39;00m object_hook \u001b[39mis\u001b[39;00m \u001b[39mNone\u001b[39;00m \u001b[39mand\u001b[39;00m\n\u001b[1;32m    344\u001b[0m         parse_int \u001b[39mis\u001b[39;00m \u001b[39mNone\u001b[39;00m \u001b[39mand\u001b[39;00m parse_float \u001b[39mis\u001b[39;00m \u001b[39mNone\u001b[39;00m \u001b[39mand\u001b[39;00m\n\u001b[1;32m    345\u001b[0m         parse_constant \u001b[39mis\u001b[39;00m \u001b[39mNone\u001b[39;00m \u001b[39mand\u001b[39;00m object_pairs_hook \u001b[39mis\u001b[39;00m \u001b[39mNone\u001b[39;00m \u001b[39mand\u001b[39;00m \u001b[39mnot\u001b[39;00m kw):\n\u001b[0;32m--> 346\u001b[0m     \u001b[39mreturn\u001b[39;00m _default_decoder\u001b[39m.\u001b[39;49mdecode(s)\n\u001b[1;32m    347\u001b[0m \u001b[39mif\u001b[39;00m \u001b[39mcls\u001b[39m \u001b[39mis\u001b[39;00m \u001b[39mNone\u001b[39;00m:\n\u001b[1;32m    348\u001b[0m     \u001b[39mcls\u001b[39m \u001b[39m=\u001b[39m JSONDecoder\n",
      "File \u001b[0;32m~/miniconda3/envs/air-quality-hackathon/lib/python3.10/json/decoder.py:337\u001b[0m, in \u001b[0;36mJSONDecoder.decode\u001b[0;34m(self, s, _w)\u001b[0m\n\u001b[1;32m    332\u001b[0m \u001b[39mdef\u001b[39;00m \u001b[39mdecode\u001b[39m(\u001b[39mself\u001b[39m, s, _w\u001b[39m=\u001b[39mWHITESPACE\u001b[39m.\u001b[39mmatch):\n\u001b[1;32m    333\u001b[0m \u001b[39m    \u001b[39m\u001b[39m\"\"\"Return the Python representation of ``s`` (a ``str`` instance\u001b[39;00m\n\u001b[1;32m    334\u001b[0m \u001b[39m    containing a JSON document).\u001b[39;00m\n\u001b[1;32m    335\u001b[0m \n\u001b[1;32m    336\u001b[0m \u001b[39m    \"\"\"\u001b[39;00m\n\u001b[0;32m--> 337\u001b[0m     obj, end \u001b[39m=\u001b[39m \u001b[39mself\u001b[39;49m\u001b[39m.\u001b[39;49mraw_decode(s, idx\u001b[39m=\u001b[39;49m_w(s, \u001b[39m0\u001b[39;49m)\u001b[39m.\u001b[39;49mend())\n\u001b[1;32m    338\u001b[0m     end \u001b[39m=\u001b[39m _w(s, end)\u001b[39m.\u001b[39mend()\n\u001b[1;32m    339\u001b[0m     \u001b[39mif\u001b[39;00m end \u001b[39m!=\u001b[39m \u001b[39mlen\u001b[39m(s):\n",
      "File \u001b[0;32m~/miniconda3/envs/air-quality-hackathon/lib/python3.10/json/decoder.py:355\u001b[0m, in \u001b[0;36mJSONDecoder.raw_decode\u001b[0;34m(self, s, idx)\u001b[0m\n\u001b[1;32m    353\u001b[0m     obj, end \u001b[39m=\u001b[39m \u001b[39mself\u001b[39m\u001b[39m.\u001b[39mscan_once(s, idx)\n\u001b[1;32m    354\u001b[0m \u001b[39mexcept\u001b[39;00m \u001b[39mStopIteration\u001b[39;00m \u001b[39mas\u001b[39;00m err:\n\u001b[0;32m--> 355\u001b[0m     \u001b[39mraise\u001b[39;00m JSONDecodeError(\u001b[39m\"\u001b[39m\u001b[39mExpecting value\u001b[39m\u001b[39m\"\u001b[39m, s, err\u001b[39m.\u001b[39mvalue) \u001b[39mfrom\u001b[39;00m \u001b[39mNone\u001b[39;00m\n\u001b[1;32m    356\u001b[0m \u001b[39mreturn\u001b[39;00m obj, end\n",
      "\u001b[0;31mJSONDecodeError\u001b[0m: Expecting value: line 1 column 1 (char 0)"
     ]
    }
   ],
   "source": [
    "import json\n",
    "import os\n",
    "import sys\n",
    "\n",
    "import boto3\n",
    "\n",
    "module_path = \"..\"\n",
    "sys.path.append(os.path.abspath(module_path))\n",
    "from utils import bedrock, print_ww\n",
    "\n",
    "\n",
    "# ---- ⚠️ Un-comment and edit the below lines as needed for your AWS setup ⚠️ ----\n",
    "\n",
    "# os.environ[\"AWS_DEFAULT_REGION\"] = \"<REGION_NAME>\"  # E.g. \"us-east-1\"\n",
    "# os.environ[\"AWS_PROFILE\"] = \"<YOUR_PROFILE>\"\n",
    "# os.environ[\"BEDROCK_ASSUME_ROLE\"] = \"<YOUR_ROLE_ARN>\"  # E.g. \"arn:aws:...\"\n",
    "\n",
    "boto3_bedrock = bedrock.get_bedrock_client(\n",
    "    #assumed_role=os.environ.get(\"BEDROCK_ASSUME_ROLE\", None),\n",
    "    region=os.environ.get(\"AWS_DEFAULT_REGION\", None)\n",
    ")"
   ]
  },
  {
   "cell_type": "markdown",
   "id": "231ed252-e773-41ff-9489-1fcce7bb0966",
   "metadata": {},
   "source": [
    "## Configure langchain\n",
    "\n",
    "We begin with instantiating the LLM and the Embeddings model. Here we are using Anthropic Claude for text generation and Amazon Titan for text embedding.\n"
   ]
  },
  {
   "cell_type": "code",
   "execution_count": 20,
   "id": "517579be-07a3-43d3-a476-ccbd8ffbbb81",
   "metadata": {},
   "outputs": [],
   "source": [
    "from langchain.embeddings import BedrockEmbeddings\n",
    "from langchain.llms.bedrock import Bedrock\n",
    "\n",
    "\n",
    "llm = Bedrock(model_id=\"anthropic.claude-v2:1\", client=boto3_bedrock, model_kwargs={'max_tokens_to_sample':5000})\n",
    "bedrock_embeddings = BedrockEmbeddings(model_id=\"amazon.titan-embed-text-v1\", client=boto3_bedrock)"
   ]
  },
  {
   "cell_type": "markdown",
   "id": "5b227166-2145-4a14-b381-3b1e8db859e4",
   "metadata": {},
   "source": [
    "We need to add the embeddings of our known mappings to the Vector store. The Claude 2.1 FM has a large 200k token input limit therefore we don't need to worry about splitting the templates into smaller chunks to fit."
   ]
  },
  {
   "cell_type": "code",
   "execution_count": 21,
   "id": "d8ea8b83-7fa2-4f6c-bfd2-0b015b39f809",
   "metadata": {},
   "outputs": [
    {
     "name": "stderr",
     "output_type": "stream",
     "text": [
      " 50%|█████     | 5/10 [00:04<00:04,  1.17it/s]"
     ]
    },
    {
     "name": "stdout",
     "output_type": "stream",
     "text": [
      "Average length among 5 documents loaded is 1419 characters.\n"
     ]
    },
    {
     "name": "stderr",
     "output_type": "stream",
     "text": [
      "\n"
     ]
    }
   ],
   "source": [
    "from langchain.document_loaders import DirectoryLoader\n",
    "\n",
    "loader = DirectoryLoader('./mappings', glob=\"**/*.md\", show_progress=True)\n",
    "docs = loader.load()\n",
    "\n",
    "avg_doc_length = lambda documents: sum([len(doc.page_content) for doc in docs])//len(docs)\n",
    "avg_char_count = avg_doc_length(docs)\n",
    "print(f'Average length among {len(docs)} documents loaded is {avg_char_count} characters.')"
   ]
  },
  {
   "cell_type": "markdown",
   "id": "bfc6e4cf-5ca0-4eaf-a722-0609ee6a46c8",
   "metadata": {},
   "source": [
    "Sample the embeddings for one of the mappings."
   ]
  },
  {
   "cell_type": "code",
   "execution_count": 23,
   "id": "e27e397e-1e3e-47f6-a942-4315bd6f2cef",
   "metadata": {},
   "outputs": [
    {
     "name": "stdout",
     "output_type": "stream",
     "text": [
      "Sample embedding of a document chunk:  [ 0.5154619  -0.11262664  0.7485921  ...  0.10680589  0.02426382\n",
      " -0.00131729]\n",
      "Size of the embedding:  (1536,)\n"
     ]
    }
   ],
   "source": [
    "import numpy as np\n",
    "\n",
    "sample_embedding = np.array(bedrock_embeddings.embed_query(docs[0].page_content))\n",
    "print(\"Sample embedding of a document chunk: \", sample_embedding)\n",
    "print(\"Size of the embedding: \", sample_embedding.shape)\n"
   ]
  },
  {
   "cell_type": "markdown",
   "id": "cff776d4-aeda-4c39-92ad-88547b140009",
   "metadata": {},
   "source": [
    "As this is a quick prototype, use FAISS (in-memory vector store) within LangChain. But use OpenSearch Serverless for the hackathon."
   ]
  },
  {
   "cell_type": "code",
   "execution_count": 24,
   "id": "09c27ad1-2547-4f63-a363-d0fd4f08bac8",
   "metadata": {},
   "outputs": [],
   "source": [
    "from langchain.chains.question_answering import load_qa_chain\n",
    "from langchain.vectorstores import FAISS\n",
    "from langchain.indexes import VectorstoreIndexCreator\n",
    "from langchain.indexes.vectorstore import VectorStoreIndexWrapper\n",
    "\n",
    "def create_vector_store() :\n",
    "    vectorstore_faiss = FAISS.from_documents(\n",
    "        docs,\n",
    "        bedrock_embeddings,\n",
    "    )\n",
    "    # wrapper_store_faiss = VectorStoreIndexWrapper(vectorstore=vectorstore_faiss)\n",
    "    return vectorstore_faiss\n",
    "\n",
    "vector_store = create_vector_store()\n"
   ]
  },
  {
   "cell_type": "markdown",
   "id": "5bb41df9-8d17-439f-8232-ec6f1314776c",
   "metadata": {},
   "source": [
    "## Obtain the mapped result\n",
    "\n",
    "Helper functions:"
   ]
  },
  {
   "cell_type": "code",
   "execution_count": 25,
   "id": "180f459b-2ea8-406a-afb7-a288fb441d69",
   "metadata": {},
   "outputs": [],
   "source": [
    "import pprint\n",
    "\n",
    "def execute(prompt, query, expected) :\n",
    "    qa = RetrievalQA.from_chain_type(\n",
    "        llm=llm,\n",
    "        chain_type=\"stuff\",\n",
    "        retriever=vector_store.as_retriever(\n",
    "            search_type=\"similarity\", search_kwargs={\"k\": 3}\n",
    "            # search_type=\"similarity_score_threshold\", search_kwargs={\"score_threshold\": .9}\n",
    "        ),\n",
    "        return_source_documents=True,\n",
    "        chain_type_kwargs={\"prompt\": prompt}\n",
    "    )\n",
    "    answer = qa({\"query\": query})\n",
    "\n",
    "    if expected != '?':\n",
    "        print(\"Expected: \\n\", expected)\n",
    "        print(\"\\nActual: \\n\", answer['result'])\n",
    "    else:\n",
    "        print(answer['result'])\n",
    "    \n",
    "    # print(\"\\tquery: \\n\", answer['query'])\n",
    "    # print(\"\\nSource_documents: \\n\", answer['source_documents'])\n"
   ]
  },
  {
   "cell_type": "markdown",
   "id": "7988d0fb-ebcc-4b33-89c0-44d18cecd3db",
   "metadata": {},
   "source": [
    "Now that we have our vector store in place, we can start asking questions. Let's define a reusable template."
   ]
  },
  {
   "cell_type": "code",
   "execution_count": null,
   "id": "f403ca9d-f868-4fc9-8ddc-4c1fa550c1d2",
   "metadata": {},
   "outputs": [
    {
     "ename": "",
     "evalue": "",
     "output_type": "error",
     "traceback": [
      "\u001b[1;31mnotebook controller is DISPOSED. \n",
      "\u001b[1;31mView Jupyter <a href='command:jupyter.viewOutput'>log</a> for further details."
     ]
    }
   ],
   "source": [
    "from langchain.prompts import PromptTemplate\n",
    "from langchain.chains import RetrievalQA\n",
    "prompt_template = \"\"\"\n",
    "\n",
    "Human: Use the context within the following <context></context> XML tag to provide a concise answer to the question at the end:\n",
    "<context>\n",
    "{context}\n",
    "</context\n",
    "\n",
    "<schema>\n",
    "{{\n",
    "  \"$schema\": \"https://json-schema.org/draft/2020-12\",\n",
    "  \"type\": \"object\",\n",
    "  \"properties\": {{\n",
    "    \"sensor_id\": {{\n",
    "      \"type\": \"string\"\n",
    "    }},\n",
    "    \"timestamp\": {{\n",
    "      \"type\": \"string\",\n",
    "      \"format\": \"datetime\"\n",
    "    }},\n",
    "    \"pm0_3\": {{\n",
    "      \"type\": \"number\"\n",
    "    }},\n",
    "    \"pm0_5\": {{\n",
    "      \"type\": \"number\"\n",
    "    }},\n",
    "    \"pm1\": {{\n",
    "      \"type\": \"number\"\n",
    "    }},\n",
    "    \"pm2_5\": {{\n",
    "      \"type\": \"number\"\n",
    "    }},\n",
    "    \"pm4\": {{\n",
    "      \"type\": \"number\"\n",
    "    }},\n",
    "    \"pm5\": {{\n",
    "      \"type\": \"number\"\n",
    "    }},\n",
    "    \"pm10\": {{\n",
    "      \"type\": \"number\"\n",
    "    }},\n",
    "    \"temperature\": {{\n",
    "      \"type\": \"number\"\n",
    "    }},\n",
    "    \"humidity\": {{\n",
    "      \"type\": \"number\"\n",
    "    }}\n",
    "  }},\n",
    "  \"required\": [\n",
    "    \"sensor_id\",\n",
    "    \"timestamp\"\n",
    "  ]\n",
    "}}\n",
    "</schema>\n",
    "\n",
    "[Task instructions]\n",
    "You ALWAYS follow these guidelines when writing your response:\n",
    "<guidelines>\n",
    "- You will be acting as an expert software developer, writing responses as json in the AFRI_SET_COMMON json format. \n",
    "- Return only the converted json as the response, along with a confidence (as a percentage) of how well you did. The json response must adhere to the json schema defined in the <schema></schema> XML tag.\n",
    "- Do not return any other surrounding text, explanation or context.\n",
    "</guidelines>\n",
    "\n",
    "When you reply, first determine how the provided input should be mapped to the AFRI_SET_COMMON json format. Write this mapping within the <thinking></thinking> XML tags. This is a space for you to write down relevant content and will not be shown to the user.  Once you are done extracting determing the mapping steps, answer the question.  Put your answer inside the <response></response> XML tags.\n",
    "\n",
    "Question: {question}\n",
    "\n",
    "Assistant:\"\"\"\n",
    "\n",
    "PROMPT = PromptTemplate(\n",
    "    template=prompt_template, input_variables=[\"context\", \"question\"]\n",
    ")"
   ]
  },
  {
   "cell_type": "markdown",
   "id": "acbd3e43-de47-44f9-890d-939722c47a16",
   "metadata": {},
   "source": [
    "Define the question(s) we want to ask."
   ]
  },
  {
   "cell_type": "code",
   "execution_count": null,
   "id": "81ccb50c-691d-4881-b769-41bdef2daaf6",
   "metadata": {},
   "outputs": [
    {
     "ename": "",
     "evalue": "",
     "output_type": "error",
     "traceback": [
      "\u001b[1;31mnotebook controller is DISPOSED. \n",
      "\u001b[1;31mView Jupyter <a href='command:jupyter.viewOutput'>log</a> for further details."
     ]
    }
   ],
   "source": [
    "# This is an example from air-gradient-dc5475b0f97c.csv:\n",
    "\n",
    "query_1 = \"\"\"Map the following provided data to the AFRI_SET_COMMON formmat:\n",
    "locationId,locationName,pm01,pm02,pm10,pm003Count,atmp,rhum,rco2,tvoc,wifi,timestamp,serialno,firmwareVersion,tvocIndex,noxIndex,datapoints\n",
    "59513,dc5475b0f97c,15.6,26.400002,27.3,2994.5,25.3,70.8,,,-69,2023-11-12T01:20:00.000Z,dc5475b0f97c,,,,2\n",
    "59513,dc5475b0f97d,10.65,18.349998,18.75,2125.5,24.6,73.75,,,-68.5,2023-11-12T02:35:00.000Z,dc5475b0f97c,,,,2\n",
    "\"\"\"\n",
    "\n",
    "# this is just used for testing. The model never sees this\n",
    "expected = [{\n",
    "    'sensor_id': \"dc5475b0f97c\",\n",
    "    'timestamp': \"2023-11-12T01:20:00.000Z\",\n",
    "    'pm1': 15.6,\n",
    "    'pm2_5': 26.400002,\n",
    "    'pm10': 27.3,\n",
    "    'temperature': 25.3,\n",
    "    'humidity': 70.8\n",
    "},{\n",
    "    'sensor_id': \"dc5475b0f97d\",\n",
    "    'timestamp': \"2023-11-12T02:35:00.000Z\",\n",
    "    'pm1': 10.65,\n",
    "    'pm2_5': 18.349998,\n",
    "    'pm10': 18.75,\n",
    "    'temperature': 24.6,\n",
    "    'humidity': 73.75\n",
    "}]\n",
    "\n",
    "execute(PROMPT, query_1, expected)"
   ]
  },
  {
   "cell_type": "code",
   "execution_count": null,
   "id": "0df0a928-31f3-4c5a-b3c3-b0437f24502e",
   "metadata": {},
   "outputs": [
    {
     "ename": "",
     "evalue": "",
     "output_type": "error",
     "traceback": [
      "\u001b[1;31mnotebook controller is DISPOSED. \n",
      "\u001b[1;31mView Jupyter <a href='command:jupyter.viewOutput'>log</a> for further details."
     ]
    }
   ],
   "source": [
    "# This is an example from airbeam.csv\n",
    "\n",
    "query_2 = \"\"\"Map the following provided data to the AFRI_SET_COMMON formmat:\n",
    ",,,,,Sensor_Package_Name,Sensor_Package_Name,Sensor_Package_Name,Sensor_Package_Name,Sensor_Package_Name\n",
    ",,,,,AirBeam3-943cc67daabc,AirBeam3-943cc67daabc,AirBeam3-943cc67daabc,AirBeam3-943cc67daabc,AirBeam3-943cc67daabc\n",
    ",,,,,Sensor_Name,Sensor_Name,Sensor_Name,Sensor_Name,Sensor_Name\n",
    ",,,,,AirBeam3-F,AirBeam3-PM1,AirBeam3-PM10,AirBeam3-PM2.5,AirBeam3-RH\n",
    ",,,,,Measurement_Type,Measurement_Type,Measurement_Type,Measurement_Type,Measurement_Type\n",
    ",,,,,Temperature,Particulate Matter,Particulate Matter,Particulate Matter,Humidity\n",
    ",,,,,Measurement_Units,Measurement_Units,Measurement_Units,Measurement_Units,Measurement_Units\n",
    ",,,,,fahrenheit,microgram per cubic meter,microgram per cubic meter,microgram per cubic meter,percent\n",
    "ObjectID,Session_Name,Timestamp,Latitude,Longitude,1:Measurement_Value,2:Measurement_Value,3:Measurement_Value,4:Measurement_Value,5:Measurement_Value\n",
    "421,AfriSET (1),2023-10-06T21:55:17.000,5.65151,-0.185649,90.0,7.0,8.0,8.5,69.0\n",
    "20,AfriSET (1),2023-10-06T15:13:20.000,5.65151,-0.185649,100.0,5.0,6.0,7.0,37.0\n",
    "\"\"\"\n",
    "\n",
    "# this is just used for testing. The model never sees this\n",
    "expected = [{\n",
    "    'sensor_id': \"AirBeam3-943cc67daabc\",\n",
    "    'timestamp': \"2023-10-06T21:55:17.000\",\n",
    "    'pm1': 7.0,\n",
    "    'pm2_5': 8.5,\n",
    "    'pm10': 8.0,\n",
    "    'temperature': 90.0,\n",
    "    'humidity': 69.0\n",
    "}, {\n",
    "    'sensor_id': \"AirBeam3-943cc67daabc\",\n",
    "    'timestamp': \"2023-10-06T15:13:20.000\",\n",
    "    'pm1': 5.0,\n",
    "    'pm2_5': 7.0,\n",
    "    'pm10': 6.0,\n",
    "    'temperature': 100.0,\n",
    "    'humidity': 37.0\n",
    "}]\n",
    "\n",
    "execute(PROMPT, query_2, expected)"
   ]
  },
  {
   "cell_type": "code",
   "execution_count": null,
   "id": "ea29c48c-f68b-40cb-8965-1c03eb87311b",
   "metadata": {},
   "outputs": [
    {
     "ename": "",
     "evalue": "",
     "output_type": "error",
     "traceback": [
      "\u001b[1;31mnotebook controller is DISPOSED. \n",
      "\u001b[1;31mView Jupyter <a href='command:jupyter.viewOutput'>log</a> for further details."
     ]
    }
   ],
   "source": [
    "# This is an example from atmos.csv:\n",
    "\n",
    "query_3 = \"\"\"Map the following provided data to the AFRI_SET_COMMON formmat:\n",
    "pm4cnc,pm4cnt,dt_time,pm25raw,pm2.5cnc,temp,rh,o3op1,o3op2,no2op1,no2op2,pm10cnc,PM10,pres,altd,pm1cnc,pm0.3cnt,pm0.5cnt,pm1cnt,pm2.5cnt,pm5cnt,pm10cnt,lat,lon,no,nox,nh3,co,co2,benzene,deviceid\n",
    "0,0,2023-11-29 05:20:00,9,9,27.7,87.5,0,0,0,0,9,0,1002,308,8,0,59,69,69,0,69,0,0,0,0,0,0,0,0,3083988F1432\n",
    "0,0,2023-11-29 05:21:00,8,8,27.7,87.9,0,0,0,0,8,0,1001,309,8,0,59,68,68,0,68,0,0,0,0,0,0,0,0,3083988F1432\n",
    "0,0,2023-11-29 05:22:00,9,9,27.7,87.4,0,0,0,0,9,0,1001,308,8,0,64,74,74,0,75,0,0,0,0,0,0,0,0,3083988F1432\n",
    "\"\"\"\n",
    "\n",
    "# this is just used for testing. The model never sees this\n",
    "expected = [{\n",
    "    'sensor_id': \"3083988F1432\",\n",
    "    'timestamp': \"2023-11-29T05:20:00.000Z\",\n",
    "    'pm0_3': 0,\n",
    "    'pm0_5': 59,\n",
    "    'pm1': 69,\n",
    "    'pm2_5': 69,\n",
    "    'pm4': 0,\n",
    "    'pm5': 0,\n",
    "    'pm10': 69,\n",
    "    'temperature': 27.7,\n",
    "    'humidity': 87.5\n",
    "}, {\n",
    "    'sensor_id': \"3083988F1432\",\n",
    "    'timestamp': \"2023-11-29T05:21:00.000Z\",\n",
    "    'pm0_3': 0,\n",
    "    'pm0_5': 59,\n",
    "    'pm1': 68,\n",
    "    'pm2_5': 68,\n",
    "    'pm4': 0,\n",
    "    'pm5': 0,\n",
    "    'pm10': 68,\n",
    "    'temperature': 27.7,\n",
    "    'humidity': 87.9\n",
    "}, {\n",
    "    'sensor_id': \"3083988F1432\",\n",
    "    'timestamp': \"2023-11-29T05:22:00.000Z\",\n",
    "    'pm0_3': 0,\n",
    "    'pm0_5': 64,\n",
    "    'pm1': 74,\n",
    "    'pm2_5': 74,\n",
    "    'pm4': 0,\n",
    "    'pm5': 0,\n",
    "    'pm10': 75,\n",
    "    'temperature': 27.7,\n",
    "    'humidity': 87.4\n",
    "}]\n",
    "\n",
    "execute(PROMPT, query_3, expected)"
   ]
  },
  {
   "cell_type": "markdown",
   "id": "ddc9355a-2aa1-4708-98d5-2f4a7f876572",
   "metadata": {},
   "source": [
    "# Ask for how to map, instead of just the result\n",
    "\n",
    "Create a prompt to generate something we can execute to carry out the mapping."
   ]
  },
  {
   "cell_type": "code",
   "execution_count": null,
   "id": "d17b0bad-a10c-49a8-a458-bb4c64b39220",
   "metadata": {},
   "outputs": [
    {
     "ename": "",
     "evalue": "",
     "output_type": "error",
     "traceback": [
      "\u001b[1;31mnotebook controller is DISPOSED. \n",
      "\u001b[1;31mView Jupyter <a href='command:jupyter.viewOutput'>log</a> for further details."
     ]
    }
   ],
   "source": [
    "vector_store = create_vector_store()"
   ]
  },
  {
   "cell_type": "code",
   "execution_count": null,
   "id": "3420c89b-25f7-449b-b668-b8508e0cd974",
   "metadata": {},
   "outputs": [
    {
     "ename": "",
     "evalue": "",
     "output_type": "error",
     "traceback": [
      "\u001b[1;31mnotebook controller is DISPOSED. \n",
      "\u001b[1;31mView Jupyter <a href='command:jupyter.viewOutput'>log</a> for further details."
     ]
    }
   ],
   "source": [
    "from langchain.prompts import PromptTemplate\n",
    "from langchain.chains import RetrievalQA\n",
    "\n",
    "mapping_prompt_template = \"\"\"\n",
    "\n",
    "Human: Use the context within the following <context></context> XML tag to provide a concise answer to the question at the end:\n",
    "<context>\n",
    "{context}\n",
    "</context\n",
    "\n",
    "<schema>\n",
    "{{\n",
    "  \"$schema\": \"https://json-schema.org/draft/2020-12\",\n",
    "  \"type\": \"object\",\n",
    "  \"properties\": {{\n",
    "    \"sensor_id\": {{\n",
    "      \"type\": \"string\"\n",
    "    }},\n",
    "    \"timestamp\": {{\n",
    "      \"type\": \"string\",\n",
    "      \"format\": \"datetime\"\n",
    "    }},\n",
    "    \"pm0_3\": {{\n",
    "      \"type\": \"number\"\n",
    "    }},\n",
    "    \"pm0_5\": {{\n",
    "      \"type\": \"number\"\n",
    "    }},\n",
    "    \"pm1\": {{\n",
    "      \"type\": \"number\"\n",
    "    }},\n",
    "    \"pm2_5\": {{\n",
    "      \"type\": \"number\"\n",
    "    }},\n",
    "    \"pm4\": {{\n",
    "      \"type\": \"number\"\n",
    "    }},\n",
    "    \"pm5\": {{\n",
    "      \"type\": \"number\"\n",
    "    }},\n",
    "    \"pm10\": {{\n",
    "      \"type\": \"number\"\n",
    "    }},\n",
    "    \"temperature\": {{\n",
    "      \"type\": \"number\"\n",
    "    }},\n",
    "    \"humidity\": {{\n",
    "      \"type\": \"number\"\n",
    "    }}\n",
    "  }},\n",
    "  \"required\": [\n",
    "    \"sensor_id\",\n",
    "    \"timestamp\"\n",
    "  ]\n",
    "}}\n",
    "</schema>\n",
    "\n",
    "<code>\n",
    "from datetime import datetime\n",
    "from typing import TypeAlias\n",
    "import csv\n",
    "# TODO: add any other imports here\n",
    "\n",
    "@dataclass\n",
    "class MappedData:\n",
    "    sensor_id: str\n",
    "    timestamp: datetime \n",
    "    pm0_3: float\n",
    "    pm0_5: float\n",
    "    pm1: float  \n",
    "    pm2_5: float\n",
    "    pm4: float\n",
    "    pm5: float\n",
    "    pm10: float\n",
    "    temperature: float\n",
    "    humidity: float\n",
    "\n",
    "MappedDataList: TypeAlias = list(MappedData)\n",
    "\n",
    "class Converter:\n",
    "    \\\"\\\"\\\"A class that manages the conversion of a provided set of data, either in json or csv, to the AFRI_SET_COMMON format.\n",
    "    \\\"\\\"\\\"\n",
    "    \n",
    "    def convert(input:str) -> MappedDataList:\n",
    "        \\\"\\\"\\\"Converts the provided data to the AFRI_SET_COMMON format.\n",
    "\n",
    "        Parameters\n",
    "        ----------\n",
    "        input : str\n",
    "           Input data to be converted to the AFRI_SET_COMMON format.\n",
    "\n",
    "        Returns\n",
    "        -------\n",
    "        MappedDataList\n",
    "            A list of line items from the incoming data converted to the AFRI_SET_COMMON format.\n",
    "        \\\"\\\"\\\"\n",
    "        # TODO: add implementation here  \n",
    "</code>\n",
    "\n",
    "<response>\n",
    "    <python>\n",
    "        <!--insert generated python class here -->\n",
    "    </python>\n",
    "    <confidence>\n",
    "        <!--insert confidence rate of transform here -->\n",
    "    </confidence>\n",
    "    <test>\n",
    "        <!--insert executable python code here to test, which must pass -->\n",
    "    </test>\n",
    "</response>\n",
    "\n",
    "[Task instructions]\n",
    "You ALWAYS follow these guidelines when writing your response:\n",
    "<guidelines>\n",
    "- You will be acting as an expert Python software developer writing code compliant with Python 3.10 that reads the input data provided as part of the question and transforms it into the AFRI_SET_COMMON json format as defined by the json schema defined in the <schema></schema> XML tag. \n",
    "- The generated Python code should follow the structure as described in the <code></code> XML tags. \n",
    "- Use the python csv module to read from the input data.\n",
    "- The input data will be different with each invocation of the convert function, therefore nothing should be hardcoded within this function. Instead parse the incoming input data to obtain all values.\n",
    "- Ensure the code is syntactically correct, bug-free, optimized, not span multiple lines unnecessarily, and prefer to use standard libraries. \n",
    "- The response must be limited to the structure as described in the <response></response> XML tags. Nothing else (i.e. context, steps, or explanation) should be returned as part of the response.\n",
    "</guidelines>\n",
    "\n",
    "When you reply, first determine how the provided input should be mapped to the AFRI_SET_COMMON json format. Write this mapping within the <thinking></thinking> XML tags. This is a space for you to write down relevant content and will not be shown to the user.  Once you are done extracting determing the mapping steps, answer the question.  Put your answer inside the <response></response> XML tags.\n",
    "\n",
    "Question: {question}\n",
    "\n",
    "Assistant:\"\"\"\n",
    "\n",
    "MAPPING_PROMPT = PromptTemplate(\n",
    "    template=mapping_prompt_template, input_variables=[\"context\", \"question\"]\n",
    ")"
   ]
  },
  {
   "cell_type": "markdown",
   "id": "70b47bcb-9839-43f7-bcbf-c37348fe4d1a",
   "metadata": {},
   "source": [
    "Get the results..."
   ]
  },
  {
   "cell_type": "code",
   "execution_count": null,
   "id": "7e29716e-aa97-4d3f-9204-b5c0cefbca53",
   "metadata": {},
   "outputs": [
    {
     "ename": "",
     "evalue": "",
     "output_type": "error",
     "traceback": [
      "\u001b[1;31mnotebook controller is DISPOSED. \n",
      "\u001b[1;31mView Jupyter <a href='command:jupyter.viewOutput'>log</a> for further details."
     ]
    }
   ],
   "source": [
    "execute(MAPPING_PROMPT, query_1, '?')"
   ]
  },
  {
   "cell_type": "code",
   "execution_count": null,
   "id": "425914eb-4253-4503-88d1-4f27a6da1612",
   "metadata": {},
   "outputs": [
    {
     "ename": "",
     "evalue": "",
     "output_type": "error",
     "traceback": [
      "\u001b[1;31mnotebook controller is DISPOSED. \n",
      "\u001b[1;31mView Jupyter <a href='command:jupyter.viewOutput'>log</a> for further details."
     ]
    }
   ],
   "source": [
    "execute(MAPPING_PROMPT, query_2, '?')"
   ]
  },
  {
   "cell_type": "code",
   "execution_count": null,
   "id": "a5740bde-02f0-4f49-b7c9-e0dc1b77e7b3",
   "metadata": {},
   "outputs": [
    {
     "ename": "",
     "evalue": "",
     "output_type": "error",
     "traceback": [
      "\u001b[1;31mnotebook controller is DISPOSED. \n",
      "\u001b[1;31mView Jupyter <a href='command:jupyter.viewOutput'>log</a> for further details."
     ]
    }
   ],
   "source": [
    "execute(MAPPING_PROMPT, query_3, '?')"
   ]
  },
  {
   "cell_type": "code",
   "execution_count": null,
   "id": "a1cded47-43f4-4ea8-9ee7-4d449b2ba471",
   "metadata": {},
   "outputs": [
    {
     "ename": "",
     "evalue": "",
     "output_type": "error",
     "traceback": [
      "\u001b[1;31mnotebook controller is DISPOSED. \n",
      "\u001b[1;31mView Jupyter <a href='command:jupyter.viewOutput'>log</a> for further details."
     ]
    }
   ],
   "source": []
  }
 ],
 "metadata": {
  "kernelspec": {
   "display_name": "Python 3 (ipykernel)",
   "language": "python",
   "name": "python3"
  },
  "language_info": {
   "codemirror_mode": {
    "name": "ipython",
    "version": 3
   },
   "file_extension": ".py",
   "mimetype": "text/x-python",
   "name": "python",
   "nbconvert_exporter": "python",
   "pygments_lexer": "ipython3",
   "version": "3.10.13"
  }
 },
 "nbformat": 4,
 "nbformat_minor": 5
}
